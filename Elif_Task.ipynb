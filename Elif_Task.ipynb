{
 "cells": [
  {
   "cell_type": "markdown",
   "metadata": {},
   "source": [
    "# Join Text"
   ]
  },
  {
   "cell_type": "code",
   "execution_count": 1,
   "metadata": {},
   "outputs": [
    {
     "name": "stdout",
     "output_type": "stream",
     "text": [
      "Hello_Earth\n"
     ]
    }
   ],
   "source": [
    "def join_text (*args, seperator=' '):\n",
    "    return seperator.join(args)\n",
    "\n",
    "t1 = \"Hello\"\n",
    "t2 = \"Earth\"\n",
    "\n",
    "joined_text = join_text(t1,t2,seperator='_')\n",
    "print(joined_text)"
   ]
  },
  {
   "cell_type": "code",
   "execution_count": 3,
   "metadata": {},
   "outputs": [],
   "source": [
    "def text_opration(text, opration,*args):\n",
    "    if opration == 'join':\n",
    "        return ''.join(args)\n",
    "    elif opration == 'trim':\n",
    "        return text.strip()\n",
    "    elif opration == 'substitute':\n",
    "        old_substring, new_substring = args\n",
    "        return text.replace(old_substring,new_substring)\n",
    "    elif opration == 'cut':\n",
    "        start, end = args\n",
    "        return text[start:end]\n",
    "    else:\n",
    "        return \"Invalide opration please choose 'join','trim','substitue',or 'cut'. \""
   ]
  },
  {
   "cell_type": "code",
   "execution_count": 6,
   "metadata": {},
   "outputs": [
    {
     "name": "stdout",
     "output_type": "stream",
     "text": [
      "Welcomto New Land\n",
      "Hello Earth\n",
      "      Hello New Era Of Earth      \n",
      "    He\n"
     ]
    }
   ],
   "source": [
    "input_text = \"      Hello Earth      \"\n",
    "print( text_opration(input_text, 'join', \"Welcom\",\"to New Land\"))\n",
    "\n",
    "print(text_opration(input_text, 'trim'))\n",
    "\n",
    "print(text_opration(input_text, 'substitute', \"Earth\", \"New Era Of Earth\"))\n",
    "\n",
    "print(text_opration(input_text, 'cut', 2 , 8))"
   ]
  }
 ],
 "metadata": {
  "kernelspec": {
   "display_name": "base",
   "language": "python",
   "name": "python3"
  },
  "language_info": {
   "codemirror_mode": {
    "name": "ipython",
    "version": 3
   },
   "file_extension": ".py",
   "mimetype": "text/x-python",
   "name": "python",
   "nbconvert_exporter": "python",
   "pygments_lexer": "ipython3",
   "version": "3.11.5"
  }
 },
 "nbformat": 4,
 "nbformat_minor": 2
}
