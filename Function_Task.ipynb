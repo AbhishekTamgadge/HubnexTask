{
 "cells": [
  {
   "cell_type": "code",
   "execution_count": 5,
   "metadata": {},
   "outputs": [
    {
     "name": "stdout",
     "output_type": "stream",
     "text": [
      "{'val1': 'Hello', 'val2': 'This is', 'val3': 'New', 'joined_text': 'Hello  This is  New'}\n"
     ]
    }
   ],
   "source": [
    "def join_parameters(parm1, parm2, parm3):\n",
    "    joined_text = f\"{parm1}  {parm2}  {parm3}\"\n",
    "    output_dict = {\n",
    "        \"val1\": parm1,\n",
    "        \"val2\": parm2,\n",
    "        \"val3\": parm3,\n",
    "        \"joined_text\": joined_text\n",
    "    }\n",
    "    return output_dict\n",
    "\n",
    "param1 = \"Hello\"\n",
    "param2 = \"This is\"\n",
    "param3 = \"New\"\n",
    "\n",
    "result = join_parameters(param1, param2, param3)\n",
    "print(result)\n"
   ]
  }
 ],
 "metadata": {
  "kernelspec": {
   "display_name": "base",
   "language": "python",
   "name": "python3"
  },
  "language_info": {
   "codemirror_mode": {
    "name": "ipython",
    "version": 3
   },
   "file_extension": ".py",
   "mimetype": "text/x-python",
   "name": "python",
   "nbconvert_exporter": "python",
   "pygments_lexer": "ipython3",
   "version": "3.11.5"
  }
 },
 "nbformat": 4,
 "nbformat_minor": 2
}
