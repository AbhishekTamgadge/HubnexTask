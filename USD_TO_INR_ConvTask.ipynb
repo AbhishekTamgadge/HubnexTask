{
 "cells": [
  {
   "cell_type": "code",
   "execution_count": 68,
   "metadata": {},
   "outputs": [],
   "source": [
    "import requests as rq\n",
    "from bs4 import BeautifulSoup"
   ]
  },
  {
   "cell_type": "code",
   "execution_count": 69,
   "metadata": {},
   "outputs": [],
   "source": [
    "def fetch_html(url):\n",
    "    resp = rq.get(url)\n",
    "    return BeautifulSoup(resp.content, 'html.parser')"
   ]
  },
  {
   "cell_type": "code",
   "execution_count": 70,
   "metadata": {},
   "outputs": [],
   "source": [
    "def get_usd_market_price(Currency):\n",
    "    url = \"https://www.google.com/finance/quote/USD-INR\"\n",
    "    bsoup = fetch_html(url)\n",
    "    exchange_rate_div = bsoup.find(\"div\", attrs={'data-last-price': True})\n",
    "    if exchange_rate_div:\n",
    "        return float(exchange_rate_div['data-last-price'])\n",
    "    raise ValueError(\"USD to INR exchange rate not found.\")"
   ]
  },
  {
   "cell_type": "code",
   "execution_count": 71,
   "metadata": {},
   "outputs": [],
   "source": [
    "def get_price_information(ticker, exchange):\n",
    "    url = f\"https://www.google.com/finance/quote/{ticker}:{exchange}\"\n",
    "    bsoup = fetch_html(url)\n",
    "    price_div = bsoup.find(\"div\", attrs={'data-last-price': True})\n",
    "    if price_div:\n",
    "        price = float(price_div['data-last-price'])\n",
    "        currency = price_div['data-currency-code']\n",
    "        usd_price = round(get_usd_market_price(currency),2)\n",
    "        inr_price = round(usd_price * get_usd_market_price(currency),2)\n",
    "\n",
    "        return {\n",
    "            'stock_name' : ticker,\n",
    "            'exchange' : exchange,\n",
    "            'currency' : currency,\n",
    "            'USD_Price' : usd_price,\n",
    "            'INR_Price' : inr_price\n",
    "        }\n",
    "    raise ValueError(f\"Price information for {ticker} on {exchange} not found.\")"
   ]
  },
  {
   "cell_type": "code",
   "execution_count": 72,
   "metadata": {},
   "outputs": [],
   "source": [
    "ticker = 'GOOG'\n",
    "exchange = 'NASDAQ'"
   ]
  },
  {
   "cell_type": "code",
   "execution_count": 73,
   "metadata": {},
   "outputs": [
    {
     "name": "stdout",
     "output_type": "stream",
     "text": [
      "{'stock_name': 'GOOG', 'exchange': 'NASDAQ', 'currency': 'USD', 'USD_Price': 83.44, 'INR_Price': 6962.05}\n"
     ]
    }
   ],
   "source": [
    "print(get_price_information(ticker,exchange))"
   ]
  }
 ],
 "metadata": {
  "kernelspec": {
   "display_name": "base",
   "language": "python",
   "name": "python3"
  },
  "language_info": {
   "codemirror_mode": {
    "name": "ipython",
    "version": 3
   },
   "file_extension": ".py",
   "mimetype": "text/x-python",
   "name": "python",
   "nbconvert_exporter": "python",
   "pygments_lexer": "ipython3",
   "version": "3.11.5"
  }
 },
 "nbformat": 4,
 "nbformat_minor": 2
}
