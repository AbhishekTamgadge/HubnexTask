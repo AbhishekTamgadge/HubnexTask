{
 "cells": [
  {
   "cell_type": "code",
   "execution_count": 2,
   "metadata": {},
   "outputs": [
    {
     "data": {
      "text/plain": [
       "('hello',\n",
       " 'jupter',\n",
       " 3.14,\n",
       " 1.618,\n",
       " True,\n",
       " False,\n",
       " [1, 2, 3],\n",
       " {1, 2, 3},\n",
       " {'A': 3, 'B': 8},\n",
       " (0, 1))"
      ]
     },
     "execution_count": 2,
     "metadata": {},
     "output_type": "execute_result"
    }
   ],
   "source": [
    "# Take a Tuple\n",
    "tuple_1 = ('hello','jupter',3.14,1.618,True,False,[1,2,3],{1,2,3},{'A':3,'B':8},(0,1))\n",
    "tuple_1"
   ]
  },
  {
   "cell_type": "code",
   "execution_count": 3,
   "metadata": {},
   "outputs": [
    {
     "name": "stdout",
     "output_type": "stream",
     "text": [
      "<class 'tuple'>\n",
      "10\n"
     ]
    }
   ],
   "source": [
    "print(type(tuple_1))\n",
    "print(len(tuple_1))"
   ]
  },
  {
   "cell_type": "markdown",
   "metadata": {},
   "source": [
    "# Indexing"
   ]
  },
  {
   "cell_type": "code",
   "execution_count": 5,
   "metadata": {},
   "outputs": [
    {
     "name": "stdout",
     "output_type": "stream",
     "text": [
      "hello\n",
      "jupter\n",
      "3.14\n",
      "(0, 1)\n",
      "{'A': 3, 'B': 8}\n",
      "{1, 2, 3}\n"
     ]
    }
   ],
   "source": [
    "tuple_1 = ('hello','jupter',3.14,1.618,True,False,[1,2,3],{1,2,3},{'A':3,'B':8},(0,1))\n",
    "\n",
    "print(tuple_1[0])\n",
    "print(tuple_1[1])\n",
    "print(tuple_1[2])\n",
    "print(tuple_1[-1])\n",
    "print(tuple_1[-2])\n",
    "print(tuple_1[-3])"
   ]
  },
  {
   "cell_type": "code",
   "execution_count": 8,
   "metadata": {},
   "outputs": [
    {
     "name": "stdout",
     "output_type": "stream",
     "text": [
      "<class 'str'>\n",
      "<class 'float'>\n",
      "<class 'bool'>\n",
      "<class 'list'>\n",
      "<class 'set'>\n",
      "<class 'dict'>\n",
      "<class 'tuple'>\n"
     ]
    }
   ],
   "source": [
    "# Printing the type of each value in the tuple\n",
    "tuple_1 = ('hello','jupter',3.14,1.618,True,False,[1,2,3],{1,2,3},{'A':3,'B':8},(0,1))\n",
    "\n",
    "print(type(tuple_1[0]))\n",
    "print(type(tuple_1[2]))\n",
    "print(type(tuple_1[4]))\n",
    "print(type(tuple_1[6]))\n",
    "print(type(tuple_1[7]))\n",
    "print(type(tuple_1[8]))\n",
    "print(type(tuple_1[9]))"
   ]
  },
  {
   "cell_type": "markdown",
   "metadata": {},
   "source": [
    "# Concatenation of tuples"
   ]
  },
  {
   "cell_type": "code",
   "execution_count": 9,
   "metadata": {},
   "outputs": [
    {
     "data": {
      "text/plain": [
       "('hello',\n",
       " 'jupter',\n",
       " 3.14,\n",
       " 1.618,\n",
       " True,\n",
       " False,\n",
       " [1, 2, 3],\n",
       " {1, 2, 3},\n",
       " {'A': 3, 'B': 8},\n",
       " (0, 1),\n",
       " 'hi tuple',\n",
       " 2024)"
      ]
     },
     "execution_count": 9,
     "metadata": {},
     "output_type": "execute_result"
    }
   ],
   "source": [
    "tuple_2 = tuple_1 + ('hi tuple',2024)\n",
    "tuple_2"
   ]
  },
  {
   "cell_type": "markdown",
   "metadata": {},
   "source": [
    "# Repetion of tuple"
   ]
  },
  {
   "cell_type": "code",
   "execution_count": 10,
   "metadata": {},
   "outputs": [
    {
     "data": {
      "text/plain": [
       "(1, 2, 3, 4, 1, 2, 3, 4)"
      ]
     },
     "execution_count": 10,
     "metadata": {},
     "output_type": "execute_result"
    }
   ],
   "source": [
    "rep_tup = (1,2,3,4)\n",
    "rep_tup * 2"
   ]
  },
  {
   "cell_type": "markdown",
   "metadata": {},
   "source": [
    "# Membership"
   ]
  },
  {
   "cell_type": "code",
   "execution_count": 11,
   "metadata": {},
   "outputs": [
    {
     "name": "stdout",
     "output_type": "stream",
     "text": [
      "True\n",
      "False\n",
      "False\n",
      "True\n"
     ]
    }
   ],
   "source": [
    "rep_tup = (1,2,3,4)\n",
    "print( 2 in rep_tup)\n",
    "print(2 not in rep_tup)\n",
    "print(5 in rep_tup)\n",
    "print(5 not in rep_tup)"
   ]
  },
  {
   "cell_type": "markdown",
   "metadata": {},
   "source": [
    "# Iteration"
   ]
  },
  {
   "cell_type": "code",
   "execution_count": 12,
   "metadata": {},
   "outputs": [
    {
     "name": "stdout",
     "output_type": "stream",
     "text": [
      "1\n",
      "2\n",
      "3\n",
      "4\n"
     ]
    }
   ],
   "source": [
    "rep_tup = (1,2,3,4)\n",
    "for i in rep_tup:\n",
    "    print(i)"
   ]
  },
  {
   "cell_type": "markdown",
   "metadata": {},
   "source": [
    "# cmp() Function\n",
    "### It is to compare two tuples and returns True or False"
   ]
  },
  {
   "cell_type": "code",
   "execution_count": 13,
   "metadata": {},
   "outputs": [
    {
     "name": "stdout",
     "output_type": "stream",
     "text": [
      "-1\n",
      "1\n",
      "0\n"
     ]
    }
   ],
   "source": [
    "def cmp(t1,t2):\n",
    "    return bool(t1 > t2) - bool(t1 < t2)\n",
    "\n",
    "def cmp(t3,t4):\n",
    "    return bool(t3 > t4) - bool(t3 < t4)\n",
    "\n",
    "def cmp(t5,t6):\n",
    "    return bool(t5 > t6) - bool(t5 < t6)\n",
    "\n",
    "t1 = (1,3,5)\n",
    "t2 = (2,4,6)\n",
    "\n",
    "t3 = (5,)\n",
    "t4 = (4,)\n",
    "\n",
    "t5 = (3.14,)\n",
    "t6 = (3.14,)\n",
    "\n",
    "print(cmp(t1,t2))\n",
    "print(cmp(t3,t4))\n",
    "print(cmp(t5,t6))"
   ]
  },
  {
   "cell_type": "markdown",
   "metadata": {},
   "source": [
    "# min() Function"
   ]
  },
  {
   "cell_type": "code",
   "execution_count": 15,
   "metadata": {},
   "outputs": [
    {
     "data": {
      "text/plain": [
       "1"
      ]
     },
     "execution_count": 15,
     "metadata": {},
     "output_type": "execute_result"
    }
   ],
   "source": [
    "rep_tup = (1,2,3,4)\n",
    "min(rep_tup)"
   ]
  },
  {
   "cell_type": "markdown",
   "metadata": {},
   "source": [
    "# Max() Function"
   ]
  },
  {
   "cell_type": "code",
   "execution_count": 16,
   "metadata": {},
   "outputs": [
    {
     "data": {
      "text/plain": [
       "4"
      ]
     },
     "execution_count": 16,
     "metadata": {},
     "output_type": "execute_result"
    }
   ],
   "source": [
    "rep_tup = (1,2,3,4)\n",
    "max(rep_tup)"
   ]
  },
  {
   "cell_type": "markdown",
   "metadata": {},
   "source": [
    "# tup(seq) Function"
   ]
  },
  {
   "cell_type": "code",
   "execution_count": 17,
   "metadata": {},
   "outputs": [
    {
     "data": {
      "text/plain": [
       "('A', 'T', 'G', 'C', 'G', 'T', 'A', 'T', 'T', 'G', 'C', 'C', 'A', 'T')"
      ]
     },
     "execution_count": 17,
     "metadata": {},
     "output_type": "execute_result"
    }
   ],
   "source": [
    "seq = 'ATGCGTATTGCCAT'\n",
    "tuple(seq)"
   ]
  },
  {
   "cell_type": "markdown",
   "metadata": {},
   "source": [
    "# Slicing"
   ]
  },
  {
   "cell_type": "code",
   "execution_count": 18,
   "metadata": {},
   "outputs": [
    {
     "data": {
      "text/plain": [
       "(3.14, 1.618, True, False, [1, 2, 3])"
      ]
     },
     "execution_count": 18,
     "metadata": {},
     "output_type": "execute_result"
    }
   ],
   "source": [
    "tuple_1 = ('hello','jupter',3.14,1.618,True,False,[1,2,3],{1,2,3},{'A':3,'B':8},(0,1))\n",
    "tuple_1[2:7]"
   ]
  },
  {
   "cell_type": "code",
   "execution_count": 19,
   "metadata": {},
   "outputs": [
    {
     "data": {
      "text/plain": [
       "([1, 2, 3], {1, 2, 3}, {'A': 3, 'B': 8})"
      ]
     },
     "execution_count": 19,
     "metadata": {},
     "output_type": "execute_result"
    }
   ],
   "source": [
    "tuple_1 = ('hello','jupter',3.14,1.618,True,False,[1,2,3],{1,2,3},{'A':3,'B':8},(0,1))\n",
    "tuple_1[-4:-1]"
   ]
  },
  {
   "cell_type": "markdown",
   "metadata": {},
   "source": [
    "# Len() Function"
   ]
  },
  {
   "cell_type": "code",
   "execution_count": 21,
   "metadata": {},
   "outputs": [
    {
     "data": {
      "text/plain": [
       "11"
      ]
     },
     "execution_count": 21,
     "metadata": {},
     "output_type": "execute_result"
    }
   ],
   "source": [
    "tuple_1 = ('hello','jupter',3.14,1.618,True,False,32,[1,2,3],{1,2,3},{'A':3,'B':8},(0,1))\n",
    "len(tuple_1)"
   ]
  },
  {
   "cell_type": "markdown",
   "metadata": {},
   "source": [
    "# Sorting Tuple"
   ]
  },
  {
   "cell_type": "code",
   "execution_count": 22,
   "metadata": {},
   "outputs": [
    {
     "data": {
      "text/plain": [
       "[0, 1, 2, 3, 4, 6, 7, 8, 9, 9]"
      ]
     },
     "execution_count": 22,
     "metadata": {},
     "output_type": "execute_result"
    }
   ],
   "source": [
    "tuple_3 = (0,9,7,4,6,2,9,8,3,1)\n",
    "sorted_tuple_3 =sorted(tuple_3)\n",
    "sorted_tuple_3"
   ]
  },
  {
   "cell_type": "markdown",
   "metadata": {},
   "source": [
    "# Nested tuple"
   ]
  },
  {
   "cell_type": "code",
   "execution_count": 23,
   "metadata": {},
   "outputs": [
    {
     "data": {
      "text/plain": [
       "('biotechnology',\n",
       " (0, 5),\n",
       " ('fermentation', 'ethanol'),\n",
       " (3.14, 'pi', (1.618, 'golden ratio')))"
      ]
     },
     "execution_count": 23,
     "metadata": {},
     "output_type": "execute_result"
    }
   ],
   "source": [
    "nested_tuple = ('biotechnology',(0,5),('fermentation','ethanol'),(3.14,'pi',(1.618,'golden ratio')))\n",
    "nested_tuple"
   ]
  },
  {
   "cell_type": "code",
   "execution_count": 24,
   "metadata": {},
   "outputs": [
    {
     "name": "stdout",
     "output_type": "stream",
     "text": [
      "Item 0 of nested tuple is biotechnology\n",
      "Item 1 of nested tuple is (0, 5)\n",
      "Item 2 of nested tuple is ('fermentation', 'ethanol')\n",
      "Item 3 of nested tuple is (3.14, 'pi', (1.618, 'golden ratio'))\n"
     ]
    }
   ],
   "source": [
    "print('Item 0 of nested tuple is', nested_tuple[0])\n",
    "print('Item 1 of nested tuple is', nested_tuple[1])\n",
    "print('Item 2 of nested tuple is', nested_tuple[2])\n",
    "print('Item 3 of nested tuple is', nested_tuple[3])"
   ]
  },
  {
   "cell_type": "code",
   "execution_count": 26,
   "metadata": {},
   "outputs": [
    {
     "name": "stdout",
     "output_type": "stream",
     "text": [
      "Item 1,0 of the nested tuple is 0\n",
      "Item 1,1 of the nested tuple is 5\n",
      "Item 2,0 of the nested tuple is fermentation\n",
      "Item 2,1 of the nested tuple is  ethanol\n",
      "Item 3,0 of the nested tuple is 3.14\n",
      "Item 3,1 of the nested tuple is pi\n",
      "Item 3,2 of the nested tuple is  (1.618, 'golden ratio')\n",
      "Item 3,2,0 of the nested tuple is 1.618\n",
      "Item 3,2,1 of the nested tuple is golden ratio\n"
     ]
    }
   ],
   "source": [
    "# using second index to access other tuples in the nested tuple\n",
    "print('Item 1,0 of the nested tuple is', nested_tuple[1][0])\n",
    "print('Item 1,1 of the nested tuple is', nested_tuple[1][1])\n",
    "print('Item 2,0 of the nested tuple is', nested_tuple[2][0])\n",
    "print('Item 2,1 of the nested tuple is ', nested_tuple[2][1])\n",
    "print('Item 3,0 of the nested tuple is', nested_tuple[3][0])\n",
    "print('Item 3,1 of the nested tuple is', nested_tuple[3][1])\n",
    "print('Item 3,2 of the nested tuple is ', nested_tuple[3][2])\n",
    "\n",
    "# Accesing to the items in the second nested tuples using a third index\n",
    "print('Item 3,2,0 of the nested tuple is', nested_tuple[3][2][0])\n",
    "print('Item 3,2,1 of the nested tuple is', nested_tuple[3][2][1])"
   ]
  },
  {
   "cell_type": "markdown",
   "metadata": {},
   "source": [
    "# Tuples are immutable"
   ]
  },
  {
   "cell_type": "code",
   "execution_count": 27,
   "metadata": {},
   "outputs": [
    {
     "ename": "TypeError",
     "evalue": "'tuple' object does not support item assignment",
     "output_type": "error",
     "traceback": [
      "\u001b[1;31m---------------------------------------------------------------------------\u001b[0m",
      "\u001b[1;31mTypeError\u001b[0m                                 Traceback (most recent call last)",
      "Cell \u001b[1;32mIn[27], line 2\u001b[0m\n\u001b[0;32m      1\u001b[0m tuple_4 \u001b[38;5;241m=\u001b[39m (\u001b[38;5;241m1\u001b[39m,\u001b[38;5;241m3\u001b[39m,\u001b[38;5;241m5\u001b[39m,\u001b[38;5;241m7\u001b[39m,\u001b[38;5;241m8\u001b[39m)\n\u001b[1;32m----> 2\u001b[0m tuple_4[\u001b[38;5;241m0\u001b[39m]\u001b[38;5;241m=\u001b[39m \u001b[38;5;241m9\u001b[39m\n\u001b[0;32m      3\u001b[0m \u001b[38;5;28mprint\u001b[39m(tuple_4)\n",
      "\u001b[1;31mTypeError\u001b[0m: 'tuple' object does not support item assignment"
     ]
    }
   ],
   "source": [
    "tuple_4 = (1,3,5,7,8)\n",
    "tuple_4[0]= 9\n",
    "print(tuple_4)"
   ]
  },
  {
   "cell_type": "markdown",
   "metadata": {},
   "source": [
    "# Delete a tuple"
   ]
  },
  {
   "cell_type": "code",
   "execution_count": 28,
   "metadata": {},
   "outputs": [
    {
     "name": "stdout",
     "output_type": "stream",
     "text": [
      "Before deleting : (1, 3, 5, 7, 8)\n"
     ]
    },
    {
     "ename": "NameError",
     "evalue": "name 'tuple_4' is not defined",
     "output_type": "error",
     "traceback": [
      "\u001b[1;31m---------------------------------------------------------------------------\u001b[0m",
      "\u001b[1;31mNameError\u001b[0m                                 Traceback (most recent call last)",
      "Cell \u001b[1;32mIn[28], line 4\u001b[0m\n\u001b[0;32m      2\u001b[0m \u001b[38;5;28mprint\u001b[39m(\u001b[38;5;124m'\u001b[39m\u001b[38;5;124mBefore deleting :\u001b[39m\u001b[38;5;124m'\u001b[39m, tuple_4)\n\u001b[0;32m      3\u001b[0m \u001b[38;5;28;01mdel\u001b[39;00m tuple_4\n\u001b[1;32m----> 4\u001b[0m \u001b[38;5;28mprint\u001b[39m(\u001b[38;5;124m'\u001b[39m\u001b[38;5;124mAfter deleting :\u001b[39m\u001b[38;5;124m'\u001b[39m, tuple_4)\n",
      "\u001b[1;31mNameError\u001b[0m: name 'tuple_4' is not defined"
     ]
    }
   ],
   "source": [
    "tuple_4 = (1,3,5,7,8)\n",
    "print('Before deleting :', tuple_4)\n",
    "del tuple_4\n",
    "print('After deleting :', tuple_4)"
   ]
  },
  {
   "cell_type": "markdown",
   "metadata": {},
   "source": [
    "# Count() method"
   ]
  },
  {
   "cell_type": "code",
   "execution_count": 29,
   "metadata": {},
   "outputs": [
    {
     "data": {
      "text/plain": [
       "4"
      ]
     },
     "execution_count": 29,
     "metadata": {},
     "output_type": "execute_result"
    }
   ],
   "source": [
    "tuple_5 = (1,1,3,3,5,5,5,5,6,6,7,8,9)\n",
    "tuple_5.count(5)"
   ]
  },
  {
   "cell_type": "markdown",
   "metadata": {},
   "source": [
    "# index() method"
   ]
  },
  {
   "cell_type": "code",
   "execution_count": 32,
   "metadata": {},
   "outputs": [
    {
     "name": "stdout",
     "output_type": "stream",
     "text": [
      "4\n",
      "0\n",
      "12\n"
     ]
    }
   ],
   "source": [
    "tuple_5 = (1,1,3,3,5,5,5,5,6,6,7,8,9)\n",
    "print(tuple_5.index(5))\n",
    "print(tuple_5.index(1))\n",
    "print(tuple_5.index(9))"
   ]
  },
  {
   "cell_type": "markdown",
   "metadata": {},
   "source": [
    "# One element tuple"
   ]
  },
  {
   "cell_type": "code",
   "execution_count": 36,
   "metadata": {},
   "outputs": [
    {
     "name": "stdout",
     "output_type": "stream",
     "text": [
      "0\n",
      "<class 'int'>\n"
     ]
    }
   ],
   "source": [
    "tuple_6 = (0)\n",
    "print(tuple_6)\n",
    "print(type(tuple_6))"
   ]
  },
  {
   "cell_type": "code",
   "execution_count": 37,
   "metadata": {},
   "outputs": [
    {
     "name": "stdout",
     "output_type": "stream",
     "text": [
      "(4,)\n",
      "<class 'tuple'>\n"
     ]
    }
   ],
   "source": [
    "tuple_7 = (4,)\n",
    "print(tuple_7)\n",
    "print(type(tuple_7))"
   ]
  }
 ],
 "metadata": {
  "kernelspec": {
   "display_name": "base",
   "language": "python",
   "name": "python3"
  },
  "language_info": {
   "codemirror_mode": {
    "name": "ipython",
    "version": 3
   },
   "file_extension": ".py",
   "mimetype": "text/x-python",
   "name": "python",
   "nbconvert_exporter": "python",
   "pygments_lexer": "ipython3",
   "version": "3.11.5"
  }
 },
 "nbformat": 4,
 "nbformat_minor": 2
}
