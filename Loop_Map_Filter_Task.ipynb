{
 "cells": [
  {
   "cell_type": "markdown",
   "metadata": {},
   "source": [
    "# While loop"
   ]
  },
  {
   "cell_type": "code",
   "execution_count": 1,
   "metadata": {},
   "outputs": [],
   "source": [
    "ccc_list = [\n",
    "    {'Country': 'India', 'City': 'New Delhi', 'Continent': 'Asia'},\n",
    "    {'Country': 'Australia', 'City': 'Canberra', 'Continent': 'Australia'},\n",
    "    {'Country': 'South Africa', 'City': 'Cape Town', 'Continent': 'Africa'},\n",
    "    {'Country': 'France', 'City': 'Paris', 'Continent': 'Europe'},\n",
    "    {'Country': 'United States', 'City': 'Washington DC', 'Continent': 'North America'},\n",
    "]"
   ]
  },
  {
   "cell_type": "code",
   "execution_count": 3,
   "metadata": {},
   "outputs": [
    {
     "name": "stdout",
     "output_type": "stream",
     "text": [
      "India belongs to Asia continent.\n",
      "Australia belongs to Australia continent.\n",
      "South Africa belongs to Africa continent.\n",
      "France belongs to Europe continent.\n",
      "United States belongs to North America continent.\n"
     ]
    }
   ],
   "source": [
    "i = 0\n",
    "while i < len(ccc_list):\n",
    "    country = ccc_list[i]['Country']\n",
    "    continent = ccc_list[i]['Continent']\n",
    "    print(f'{country} belongs to {continent} continent.')\n",
    "    i = i + 1"
   ]
  },
  {
   "cell_type": "markdown",
   "metadata": {},
   "source": [
    "# For Loop"
   ]
  },
  {
   "cell_type": "code",
   "execution_count": 5,
   "metadata": {},
   "outputs": [
    {
     "name": "stdout",
     "output_type": "stream",
     "text": [
      "New Delhi is the capital of India and continent is Asia\n",
      "Canberra is the capital of Australia and continent is Australia\n",
      "Cape Town is the capital of South Africa and continent is Africa\n",
      "Paris is the capital of France and continent is Europe\n",
      "Washington DC is the capital of United States and continent is North America\n"
     ]
    }
   ],
   "source": [
    "for values in ccc_list:\n",
    "    country = values['Country']\n",
    "    city = values['City']\n",
    "    continent = values['Continent']\n",
    "\n",
    "    print(f'{city} is the capital of {country} and continent is {continent}')"
   ]
  },
  {
   "cell_type": "markdown",
   "metadata": {},
   "source": [
    "# Map Function"
   ]
  },
  {
   "cell_type": "code",
   "execution_count": 6,
   "metadata": {},
   "outputs": [],
   "source": [
    "country_and_its_language = {\n",
    "    'India': 'Hindi',\n",
    "    'Australia': 'English',\n",
    "    'South Africa': 'Afrikaans',\n",
    "    'France': 'French',\n",
    "    'United States': 'English'\n",
    "}"
   ]
  },
  {
   "cell_type": "code",
   "execution_count": 7,
   "metadata": {},
   "outputs": [],
   "source": [
    "def add_language(language):\n",
    "    country = language['Country']\n",
    "    if country in country_and_its_language:\n",
    "        language['Language'] = country_and_its_language[country]\n",
    "\n",
    "    return language"
   ]
  },
  {
   "cell_type": "code",
   "execution_count": 8,
   "metadata": {},
   "outputs": [
    {
     "name": "stdout",
     "output_type": "stream",
     "text": [
      "[{'Country': 'India', 'City': 'New Delhi', 'Continent': 'Asia', 'Language': 'Hindi'}, {'Country': 'Australia', 'City': 'Canberra', 'Continent': 'Australia', 'Language': 'English'}, {'Country': 'South Africa', 'City': 'Cape Town', 'Continent': 'Africa', 'Language': 'Afrikaans'}, {'Country': 'France', 'City': 'Paris', 'Continent': 'Europe', 'Language': 'French'}, {'Country': 'United States', 'City': 'Washington DC', 'Continent': 'North America', 'Language': 'English'}]\n"
     ]
    }
   ],
   "source": [
    "ccc_list = list(map(add_language, ccc_list))\n",
    "\n",
    "print(ccc_list)"
   ]
  },
  {
   "cell_type": "markdown",
   "metadata": {},
   "source": [
    "# lambda and filter"
   ]
  },
  {
   "cell_type": "code",
   "execution_count": 9,
   "metadata": {},
   "outputs": [
    {
     "name": "stdout",
     "output_type": "stream",
     "text": [
      "[{'Country': 'India', 'City': 'New Delhi', 'Continent': 'Asia', 'Language': 'Hindi'}]\n"
     ]
    }
   ],
   "source": [
    "filtered_list = list(filter(lambda x : x['Language'] == 'Hindi', ccc_list))\n",
    "\n",
    "print(filtered_list)"
   ]
  }
 ],
 "metadata": {
  "kernelspec": {
   "display_name": "base",
   "language": "python",
   "name": "python3"
  },
  "language_info": {
   "codemirror_mode": {
    "name": "ipython",
    "version": 3
   },
   "file_extension": ".py",
   "mimetype": "text/x-python",
   "name": "python",
   "nbconvert_exporter": "python",
   "pygments_lexer": "ipython3",
   "version": "3.11.5"
  }
 },
 "nbformat": 4,
 "nbformat_minor": 2
}
