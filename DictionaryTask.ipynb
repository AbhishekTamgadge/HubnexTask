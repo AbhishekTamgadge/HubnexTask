{
 "cells": [
  {
   "cell_type": "code",
   "execution_count": 1,
   "metadata": {},
   "outputs": [
    {
     "data": {
      "text/plain": [
       "{'key_1': 3.14,\n",
       " 'key_2': 1.618,\n",
       " 'key_3': True,\n",
       " 'key_4': [3.14, 1.618],\n",
       " 'key_5': (3.14, 1.618),\n",
       " 'key_6': 2024,\n",
       " (3.14, 1.618): 'pi and golden ra o'}"
      ]
     },
     "execution_count": 1,
     "metadata": {},
     "output_type": "execute_result"
    }
   ],
   "source": [
    "sample_dict = {'key_1': 3.14, 'key_2': 1.618, 'key_3': True, 'key_4': [3.14, 1.618], \n",
    "               'key_5': (3.14, 1.618), 'key_6': 2024, (3.14, 1.618): 'pi and golden ra o'}\n",
    "sample_dict"
   ]
  },
  {
   "cell_type": "code",
   "execution_count": 2,
   "metadata": {},
   "outputs": [
    {
     "name": "stdout",
     "output_type": "stream",
     "text": [
      "3.14\n",
      "1.618\n",
      "True\n",
      "[3.14, 1.618]\n",
      "(3.14, 1.618)\n",
      "2024\n",
      "pi and golden ra o\n"
     ]
    }
   ],
   "source": [
    "print(sample_dict['key_1'])\n",
    "print(sample_dict['key_2'])\n",
    "print(sample_dict['key_3'])\n",
    "print(sample_dict['key_4'])\n",
    "print(sample_dict['key_5'])\n",
    "print(sample_dict['key_6'])\n",
    "print(sample_dict[(3.14,1.618)])"
   ]
  },
  {
   "cell_type": "markdown",
   "metadata": {},
   "source": [
    "# Keys"
   ]
  },
  {
   "cell_type": "code",
   "execution_count": 3,
   "metadata": {},
   "outputs": [
    {
     "data": {
      "text/plain": [
       "{'Aspergillus niger': 'inulinase',\n",
       " 'Saccharomyces cerevisiae': 'ethanol',\n",
       " 'Scheffersomyces stipitis': 'ethanol',\n",
       " 'Aspergillus sojae_1': 'mannanase',\n",
       " 'Streptococcus zooepidemicus': 'hyaluronic acid',\n",
       " 'Lactobacillus casei': 'lac c acid',\n",
       " 'Aspergillus sojae_2': 'polygalacturonase'}"
      ]
     },
     "execution_count": 3,
     "metadata": {},
     "output_type": "execute_result"
    }
   ],
   "source": [
    "product = {'Aspergillus niger': 'inulinase', 'Saccharomyces cerevisiae': 'ethanol', \n",
    "'Scheffersomyces stipitis': 'ethanol', 'Aspergillus sojae_1': 'mannanase', \n",
    "'Streptococcus zooepidemicus': 'hyaluronic acid', 'Lactobacillus casei': 'lac c acid',\n",
    " 'Aspergillus sojae_2': 'polygalacturonase'}\n",
    "\n",
    "product"
   ]
  },
  {
   "cell_type": "code",
   "execution_count": 4,
   "metadata": {},
   "outputs": [
    {
     "name": "stdout",
     "output_type": "stream",
     "text": [
      "inulinase\n",
      "ethanol\n",
      "ethanol\n"
     ]
    }
   ],
   "source": [
    "print(product['Aspergillus niger'])\n",
    "print(product['Saccharomyces cerevisiae'])\n",
    "print(product['Scheffersomyces stipitis'])"
   ]
  },
  {
   "cell_type": "markdown",
   "metadata": {},
   "source": [
    "# keys() functon to get the keys in the dicitonary"
   ]
  },
  {
   "cell_type": "code",
   "execution_count": 5,
   "metadata": {},
   "outputs": [
    {
     "data": {
      "text/plain": [
       "dict_keys(['Aspergillus niger', 'Saccharomyces cerevisiae', 'Scheffersomyces stipitis', 'Aspergillus sojae_1', 'Streptococcus zooepidemicus', 'Lactobacillus casei', 'Aspergillus sojae_2'])"
      ]
     },
     "execution_count": 5,
     "metadata": {},
     "output_type": "execute_result"
    }
   ],
   "source": [
    "product.keys()"
   ]
  },
  {
   "cell_type": "markdown",
   "metadata": {},
   "source": [
    "# values() functon to get the values in the dicitonary"
   ]
  },
  {
   "cell_type": "code",
   "execution_count": 6,
   "metadata": {},
   "outputs": [
    {
     "data": {
      "text/plain": [
       "dict_values(['inulinase', 'ethanol', 'ethanol', 'mannanase', 'hyaluronic acid', 'lac c acid', 'polygalacturonase'])"
      ]
     },
     "execution_count": 6,
     "metadata": {},
     "output_type": "execute_result"
    }
   ],
   "source": [
    "product.values()"
   ]
  },
  {
   "cell_type": "markdown",
   "metadata": {},
   "source": [
    "#  Addton of a new key:value pair in the dicitonary"
   ]
  },
  {
   "cell_type": "code",
   "execution_count": 7,
   "metadata": {},
   "outputs": [
    {
     "data": {
      "text/plain": [
       "{'Aspergillus niger': 'inulinase',\n",
       " 'Saccharomyces cerevisiae': 'ethanol',\n",
       " 'Scheffersomyces stipitis': 'ethanol',\n",
       " 'Aspergillus sojae_1': 'mannanase',\n",
       " 'Streptococcus zooepidemicus': 'hyaluronic acid',\n",
       " 'Lactobacillus casei': 'lac c acid',\n",
       " 'Aspergillus sojae_2': 'polygalacturonase',\n",
       " 'Yarrovia lipolytica': 'microbial oil'}"
      ]
     },
     "execution_count": 7,
     "metadata": {},
     "output_type": "execute_result"
    }
   ],
   "source": [
    "product['Yarrovia lipolytica'] = 'microbial oil'\n",
    "product"
   ]
  },
  {
   "cell_type": "markdown",
   "metadata": {},
   "source": [
    "# Delete an item using del() function in the dictionary by key"
   ]
  },
  {
   "cell_type": "code",
   "execution_count": 8,
   "metadata": {},
   "outputs": [
    {
     "data": {
      "text/plain": [
       "{'Saccharomyces cerevisiae': 'ethanol',\n",
       " 'Scheffersomyces stipitis': 'ethanol',\n",
       " 'Streptococcus zooepidemicus': 'hyaluronic acid',\n",
       " 'Lactobacillus casei': 'lac c acid',\n",
       " 'Aspergillus sojae_2': 'polygalacturonase',\n",
       " 'Yarrovia lipolytica': 'microbial oil'}"
      ]
     },
     "execution_count": 8,
     "metadata": {},
     "output_type": "execute_result"
    }
   ],
   "source": [
    "del(product['Aspergillus niger'])\n",
    "del(product['Aspergillus sojae_1'])\n",
    "product"
   ]
  },
  {
   "cell_type": "code",
   "execution_count": 9,
   "metadata": {},
   "outputs": [
    {
     "ename": "NameError",
     "evalue": "name 'product' is not defined",
     "output_type": "error",
     "traceback": [
      "\u001b[1;31m---------------------------------------------------------------------------\u001b[0m",
      "\u001b[1;31mNameError\u001b[0m                                 Traceback (most recent call last)",
      "Cell \u001b[1;32mIn[9], line 2\u001b[0m\n\u001b[0;32m      1\u001b[0m \u001b[38;5;28;01mdel\u001b[39;00m product\n\u001b[1;32m----> 2\u001b[0m \u001b[38;5;28mprint\u001b[39m(product)\n",
      "\u001b[1;31mNameError\u001b[0m: name 'product' is not defined"
     ]
    }
   ],
   "source": [
    "del product\n",
    "print(product)"
   ]
  },
  {
   "cell_type": "code",
   "execution_count": 11,
   "metadata": {},
   "outputs": [
    {
     "data": {
      "text/plain": [
       "{'Aspergillus niger': 'inulinase',\n",
       " 'Saccharomyces cerevisiae': 'ethanol',\n",
       " 'Scheffersomyces stipitis': 'ethanol',\n",
       " 'Aspergillus sojae_1': 'mannanase',\n",
       " 'Streptococcus zooepidemicus': 'hyaluronic acid',\n",
       " 'Lactobacillus casei': 'lac c acid',\n",
       " 'Aspergillus sojae_2': 'polygalacturonase'}"
      ]
     },
     "execution_count": 11,
     "metadata": {},
     "output_type": "execute_result"
    }
   ],
   "source": [
    "product = {'Aspergillus niger': 'inulinase', 'Saccharomyces cerevisiae': 'ethanol', \n",
    "'Scheffersomyces stipitis': 'ethanol', 'Aspergillus sojae_1': 'mannanase', \n",
    "'Streptococcus zooepidemicus': 'hyaluronic acid', 'Lactobacillus casei': 'lac c acid',\n",
    " 'Aspergillus sojae_2': 'polygalacturonase'}\n",
    "\n",
    "product"
   ]
  },
  {
   "cell_type": "markdown",
   "metadata": {},
   "source": [
    "# Verification using in or not in"
   ]
  },
  {
   "cell_type": "code",
   "execution_count": 12,
   "metadata": {},
   "outputs": [
    {
     "name": "stdout",
     "output_type": "stream",
     "text": [
      "True\n",
      "False\n"
     ]
    }
   ],
   "source": [
    "print('Saccharomyces cerevisiae' in product)\n",
    "print('Saccharomyces cerevisiae' not in product)"
   ]
  },
  {
   "cell_type": "markdown",
   "metadata": {},
   "source": [
    "# Dict() function"
   ]
  },
  {
   "cell_type": "code",
   "execution_count": 13,
   "metadata": {},
   "outputs": [
    {
     "data": {
      "text/plain": [
       "{'car': 'BMW', 'type': 'CAR', 'year': '2024', 'mode': 'Electric Car'}"
      ]
     },
     "execution_count": 13,
     "metadata": {},
     "output_type": "execute_result"
    }
   ],
   "source": [
    "dict_sample = dict(car = 'BMW', type = 'CAR', year = '2024', mode = 'Electric Car')\n",
    "dict_sample"
   ]
  },
  {
   "cell_type": "markdown",
   "metadata": {},
   "source": [
    "# Clear() Function"
   ]
  },
  {
   "cell_type": "code",
   "execution_count": 14,
   "metadata": {},
   "outputs": [
    {
     "data": {
      "text/plain": [
       "{}"
      ]
     },
     "execution_count": 14,
     "metadata": {},
     "output_type": "execute_result"
    }
   ],
   "source": [
    "dict_sample.clear()\n",
    "dict_sample"
   ]
  },
  {
   "cell_type": "markdown",
   "metadata": {},
   "source": [
    "# Copy() Function"
   ]
  },
  {
   "cell_type": "code",
   "execution_count": 15,
   "metadata": {},
   "outputs": [
    {
     "name": "stdout",
     "output_type": "stream",
     "text": [
      "{'car': 'BMW', 'type': 'CAR', 'year': '2024', 'mode': 'Electric Car'}\n",
      "{'car': 'BMW', 'type': 'CAR', 'year': '2024', 'mode': 'Electric Car'}\n"
     ]
    }
   ],
   "source": [
    "sample_original = dict(car = 'BMW', type = 'CAR', year = '2024', mode = 'Electric Car')\n",
    "sample_copy = sample_original.copy()\n",
    "print(sample_original)\n",
    "print(sample_copy)"
   ]
  },
  {
   "cell_type": "markdown",
   "metadata": {},
   "source": [
    "# Pop() Function"
   ]
  },
  {
   "cell_type": "code",
   "execution_count": 16,
   "metadata": {},
   "outputs": [
    {
     "name": "stdout",
     "output_type": "stream",
     "text": [
      "CAR\n",
      "{'car': 'BMW', 'year': '2024', 'mode': 'Electric Car'}\n"
     ]
    }
   ],
   "source": [
    "print(sample_original.pop('type'))\n",
    "print(sample_original)"
   ]
  },
  {
   "cell_type": "markdown",
   "metadata": {},
   "source": [
    "# Popitem() function"
   ]
  },
  {
   "cell_type": "code",
   "execution_count": 17,
   "metadata": {},
   "outputs": [
    {
     "name": "stdout",
     "output_type": "stream",
     "text": [
      "('mode', 'Electric Car')\n",
      "{'car': 'BMW', 'type': 'CAR', 'year': '2024'}\n"
     ]
    }
   ],
   "source": [
    "sample_original = dict(car = 'BMW', type = 'CAR', year = '2024', mode = 'Electric Car')\n",
    "print(sample_original.popitem())\n",
    "print(sample_original)"
   ]
  },
  {
   "cell_type": "markdown",
   "metadata": {},
   "source": [
    "# Get() function"
   ]
  },
  {
   "cell_type": "code",
   "execution_count": 18,
   "metadata": {},
   "outputs": [
    {
     "name": "stdout",
     "output_type": "stream",
     "text": [
      "BMW\n",
      "None\n"
     ]
    }
   ],
   "source": [
    "sample_original = dict(car = 'BMW', type = 'CAR', year = '2024', mode = 'Electric Car')\n",
    "print(sample_original.get('car'))\n",
    "print(sample_original.get(3))"
   ]
  },
  {
   "cell_type": "markdown",
   "metadata": {},
   "source": [
    "# fromkeys() function"
   ]
  },
  {
   "cell_type": "code",
   "execution_count": 19,
   "metadata": {},
   "outputs": [
    {
     "name": "stdout",
     "output_type": "stream",
     "text": [
      "{'A': None, 'G': None, 'C': None, 'T': None}\n"
     ]
    }
   ],
   "source": [
    "keys = {'A','T','C','G'}\n",
    "sequence = dict.fromkeys(keys)\n",
    "print(sequence)"
   ]
  },
  {
   "cell_type": "markdown",
   "metadata": {},
   "source": [
    "# Update() Function"
   ]
  },
  {
   "cell_type": "code",
   "execution_count": 20,
   "metadata": {},
   "outputs": [
    {
     "name": "stdout",
     "output_type": "stream",
     "text": [
      "{'Aspergillus niger': 'inulinase', 'Saccharomyces cerevisiae': 'ethanol', 'Scheffersomyces stipitis': 'ethanol', 'Aspergillus sojae_1': 'mannanase', 'Streptococcus zooepidemicus': 'hyaluronic acid', 'Lactobacillus casei': 'lac c acid', 'Aspergillus sojae_2': 'polygalacturonase', 'car': 'BMW', 'type': 'CAR', 'year': '2024', 'mode': 'Electric Car'}\n"
     ]
    }
   ],
   "source": [
    "product = {'Aspergillus niger': 'inulinase', 'Saccharomyces cerevisiae': 'ethanol', \n",
    "'Scheffersomyces stipitis': 'ethanol', 'Aspergillus sojae_1': 'mannanase', \n",
    "'Streptococcus zooepidemicus': 'hyaluronic acid', 'Lactobacillus casei': 'lac c acid',\n",
    " 'Aspergillus sojae_2': 'polygalacturonase'}\n",
    "\n",
    "sample_original = dict(car = 'BMW', type = 'CAR', year = '2024', mode = 'Electric Car')\n",
    "\n",
    "product.update(sample_original)\n",
    "print(product)\n"
   ]
  },
  {
   "cell_type": "markdown",
   "metadata": {},
   "source": [
    "# Items() Function"
   ]
  },
  {
   "cell_type": "code",
   "execution_count": 21,
   "metadata": {},
   "outputs": [
    {
     "data": {
      "text/plain": [
       "dict_items([('Aspergillus niger', 'inulinase'), ('Saccharomyces cerevisiae', 'ethanol'), ('Scheffersomyces stipitis', 'ethanol'), ('Aspergillus sojae_1', 'mannanase'), ('Streptococcus zooepidemicus', 'hyaluronic acid'), ('Lactobacillus casei', 'lac c acid'), ('Aspergillus sojae_2', 'polygalacturonase')])"
      ]
     },
     "execution_count": 21,
     "metadata": {},
     "output_type": "execute_result"
    }
   ],
   "source": [
    "product = {'Aspergillus niger': 'inulinase', 'Saccharomyces cerevisiae': 'ethanol', \n",
    "'Scheffersomyces stipitis': 'ethanol', 'Aspergillus sojae_1': 'mannanase', \n",
    "'Streptococcus zooepidemicus': 'hyaluronic acid', 'Lactobacillus casei': 'lac c acid',\n",
    " 'Aspergillus sojae_2': 'polygalacturonase'}\n",
    "\n",
    "product.items()"
   ]
  },
  {
   "cell_type": "markdown",
   "metadata": {},
   "source": [
    "# Iterating dictionary"
   ]
  },
  {
   "cell_type": "code",
   "execution_count": 22,
   "metadata": {},
   "outputs": [
    {
     "name": "stdout",
     "output_type": "stream",
     "text": [
      "Aspergillus niger\n",
      "Saccharomyces cerevisiae\n",
      "Scheffersomyces stipitis\n",
      "Aspergillus sojae_1\n",
      "Streptococcus zooepidemicus\n",
      "Lactobacillus casei\n",
      "Aspergillus sojae_2\n"
     ]
    }
   ],
   "source": [
    "for k in product:\n",
    "    print(k)"
   ]
  },
  {
   "cell_type": "code",
   "execution_count": 23,
   "metadata": {},
   "outputs": [
    {
     "name": "stdout",
     "output_type": "stream",
     "text": [
      "inulinase\n",
      "ethanol\n",
      "ethanol\n",
      "mannanase\n",
      "hyaluronic acid\n",
      "lac c acid\n",
      "polygalacturonase\n",
      "\n",
      "inulinase\n",
      "ethanol\n",
      "ethanol\n",
      "mannanase\n",
      "hyaluronic acid\n",
      "lac c acid\n",
      "polygalacturonase\n"
     ]
    }
   ],
   "source": [
    "for x in product.values():\n",
    "    print(x)\n",
    "\n",
    "print()\n",
    "\n",
    "for x in product:\n",
    "    print(product[x])"
   ]
  },
  {
   "cell_type": "code",
   "execution_count": 24,
   "metadata": {},
   "outputs": [
    {
     "name": "stdout",
     "output_type": "stream",
     "text": [
      "('Aspergillus niger', 'inulinase')\n",
      "('Saccharomyces cerevisiae', 'ethanol')\n",
      "('Scheffersomyces stipitis', 'ethanol')\n",
      "('Aspergillus sojae_1', 'mannanase')\n",
      "('Streptococcus zooepidemicus', 'hyaluronic acid')\n",
      "('Lactobacillus casei', 'lac c acid')\n",
      "('Aspergillus sojae_2', 'polygalacturonase')\n"
     ]
    }
   ],
   "source": [
    "for x in product.items():\n",
    "    print(x)"
   ]
  },
  {
   "cell_type": "code",
   "execution_count": 25,
   "metadata": {},
   "outputs": [
    {
     "name": "stdout",
     "output_type": "stream",
     "text": [
      "Aspergillus niger inulinase\n",
      "Saccharomyces cerevisiae ethanol\n",
      "Scheffersomyces stipitis ethanol\n",
      "Aspergillus sojae_1 mannanase\n",
      "Streptococcus zooepidemicus hyaluronic acid\n",
      "Lactobacillus casei lac c acid\n",
      "Aspergillus sojae_2 polygalacturonase\n"
     ]
    }
   ],
   "source": [
    "for x,y in product.items():\n",
    "    print(x,y)"
   ]
  }
 ],
 "metadata": {
  "kernelspec": {
   "display_name": "base",
   "language": "python",
   "name": "python3"
  },
  "language_info": {
   "codemirror_mode": {
    "name": "ipython",
    "version": 3
   },
   "file_extension": ".py",
   "mimetype": "text/x-python",
   "name": "python",
   "nbconvert_exporter": "python",
   "pygments_lexer": "ipython3",
   "version": "3.11.5"
  }
 },
 "nbformat": 4,
 "nbformat_minor": 2
}
