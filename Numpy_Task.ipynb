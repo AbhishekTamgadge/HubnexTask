{
 "cells": [
  {
   "cell_type": "code",
   "execution_count": 1,
   "metadata": {},
   "outputs": [],
   "source": [
    "import numpy as np"
   ]
  },
  {
   "cell_type": "code",
   "execution_count": 2,
   "metadata": {},
   "outputs": [
    {
     "name": "stdout",
     "output_type": "stream",
     "text": [
      "[10 12 14 16 20 25]\n",
      "int32\n",
      "4\n"
     ]
    }
   ],
   "source": [
    "my_array = np.array([10,12,14,16,20,25])\n",
    "\n",
    "print(my_array)\n",
    "print(my_array.dtype)\n",
    "print(my_array.dtype.itemsize)"
   ]
  },
  {
   "cell_type": "code",
   "execution_count": 3,
   "metadata": {},
   "outputs": [
    {
     "name": "stdout",
     "output_type": "stream",
     "text": [
      "['Red' 'Green' 'Orange']\n",
      "<U6\n",
      "24\n"
     ]
    }
   ],
   "source": [
    "my_array = np.array([\"Red\",\"Green\",\"Orange\"])\n",
    "print(my_array)\n",
    "print(my_array.dtype)\n",
    "print(my_array.dtype.itemsize)"
   ]
  },
  {
   "cell_type": "code",
   "execution_count": 4,
   "metadata": {},
   "outputs": [
    {
     "name": "stdout",
     "output_type": "stream",
     "text": [
      "['2024-05-28' '2024-05-29' '2024-05-30']\n",
      "<U10\n",
      "40\n"
     ]
    }
   ],
   "source": [
    "my_array = np.array([\"2024-05-28\", \"2024-05-29\", \"2024-05-30\"])\n",
    "print (my_array)\n",
    "print (my_array.dtype)\n",
    "print (my_array.dtype.itemsize)"
   ]
  },
  {
   "cell_type": "markdown",
   "metadata": {},
   "source": [
    "# astype()"
   ]
  },
  {
   "cell_type": "code",
   "execution_count": 5,
   "metadata": {},
   "outputs": [
    {
     "name": "stdout",
     "output_type": "stream",
     "text": [
      "datetime64[D]\n",
      "8\n"
     ]
    }
   ],
   "source": [
    "my_array3 = my_array.astype(\"M\")\n",
    "\n",
    "print(my_array3.dtype)\n",
    "print(my_array3.dtype.itemsize)"
   ]
  },
  {
   "cell_type": "code",
   "execution_count": 6,
   "metadata": {},
   "outputs": [
    {
     "name": "stdout",
     "output_type": "stream",
     "text": [
      "['2024-05-28' '2024-05-29' '2024-05-30']\n",
      "datetime64[D]\n",
      "8\n"
     ]
    }
   ],
   "source": [
    "my_array = np.array([\"2024-05-28\", \"2024-05-29\", \"2024-05-30\"], dtype= \"M\")\n",
    "\n",
    "print (my_array)\n",
    "print (my_array.dtype)\n",
    "print (my_array.dtype.itemsize)"
   ]
  },
  {
   "cell_type": "markdown",
   "metadata": {},
   "source": [
    "# Array()"
   ]
  },
  {
   "cell_type": "code",
   "execution_count": 7,
   "metadata": {},
   "outputs": [
    {
     "data": {
      "text/plain": [
       "numpy.ndarray"
      ]
     },
     "execution_count": 7,
     "metadata": {},
     "output_type": "execute_result"
    }
   ],
   "source": [
    "nums_list = [ 10 , 12 , 14 , 16 , 20 ]\n",
    "nums_array = np.array(nums_list)\n",
    "type (nums_array)"
   ]
  },
  {
   "cell_type": "code",
   "execution_count": 8,
   "metadata": {},
   "outputs": [
    {
     "data": {
      "text/plain": [
       "(3, 3)"
      ]
     },
     "execution_count": 8,
     "metadata": {},
     "output_type": "execute_result"
    }
   ],
   "source": [
    "row1 = [ 10 , 12 , 13 ]\n",
    "row2 = [ 45 , 32 , 16 ]\n",
    "row3 = [ 45 , 32 , 16 ]\n",
    "nums_2d = np.array([row1, row2, row3])\n",
    "nums_2d.shape"
   ]
  },
  {
   "cell_type": "markdown",
   "metadata": {},
   "source": [
    "# Arrange()"
   ]
  },
  {
   "cell_type": "code",
   "execution_count": 9,
   "metadata": {},
   "outputs": [
    {
     "name": "stdout",
     "output_type": "stream",
     "text": [
      "[ 5  6  7  8  9 10]\n"
     ]
    }
   ],
   "source": [
    "nums_arr = np.arange(5,11)\n",
    "print(nums_arr)"
   ]
  },
  {
   "cell_type": "code",
   "execution_count": 10,
   "metadata": {},
   "outputs": [
    {
     "name": "stdout",
     "output_type": "stream",
     "text": [
      "[ 5  7  9 11]\n"
     ]
    }
   ],
   "source": [
    "nums_arr = np.arange(5,12,2)\n",
    "print(nums_arr)"
   ]
  },
  {
   "cell_type": "markdown",
   "metadata": {},
   "source": [
    "# Ones()"
   ]
  },
  {
   "cell_type": "code",
   "execution_count": 11,
   "metadata": {},
   "outputs": [
    {
     "name": "stdout",
     "output_type": "stream",
     "text": [
      "[1. 1. 1. 1. 1. 1.]\n"
     ]
    }
   ],
   "source": [
    "ones_array = np.ones(6)\n",
    "print(ones_array)"
   ]
  },
  {
   "cell_type": "code",
   "execution_count": 12,
   "metadata": {},
   "outputs": [
    {
     "name": "stdout",
     "output_type": "stream",
     "text": [
      "[[1. 1. 1. 1.]\n",
      " [1. 1. 1. 1.]\n",
      " [1. 1. 1. 1.]\n",
      " [1. 1. 1. 1.]\n",
      " [1. 1. 1. 1.]\n",
      " [1. 1. 1. 1.]]\n"
     ]
    }
   ],
   "source": [
    "ones_array = np.ones((6,4))\n",
    "print(ones_array)"
   ]
  },
  {
   "cell_type": "markdown",
   "metadata": {},
   "source": [
    "# Zero()"
   ]
  },
  {
   "cell_type": "code",
   "execution_count": 13,
   "metadata": {},
   "outputs": [
    {
     "name": "stdout",
     "output_type": "stream",
     "text": [
      "[0. 0. 0. 0. 0. 0.]\n"
     ]
    }
   ],
   "source": [
    "zeros_array = np.zeros(6)\n",
    "print(zeros_array)"
   ]
  },
  {
   "cell_type": "code",
   "execution_count": 14,
   "metadata": {},
   "outputs": [
    {
     "name": "stdout",
     "output_type": "stream",
     "text": [
      "[[0. 0. 0. 0.]\n",
      " [0. 0. 0. 0.]\n",
      " [0. 0. 0. 0.]\n",
      " [0. 0. 0. 0.]\n",
      " [0. 0. 0. 0.]\n",
      " [0. 0. 0. 0.]]\n"
     ]
    }
   ],
   "source": [
    "zeros_array = np.zeros((6,4))\n",
    "print(zeros_array)"
   ]
  },
  {
   "cell_type": "markdown",
   "metadata": {},
   "source": [
    "# Eye()"
   ]
  },
  {
   "cell_type": "code",
   "execution_count": 15,
   "metadata": {},
   "outputs": [
    {
     "name": "stdout",
     "output_type": "stream",
     "text": [
      "[[1. 0. 0. 0. 0.]\n",
      " [0. 1. 0. 0. 0.]\n",
      " [0. 0. 1. 0. 0.]\n",
      " [0. 0. 0. 1. 0.]\n",
      " [0. 0. 0. 0. 1.]]\n"
     ]
    }
   ],
   "source": [
    "eyes_array = np.eye(5)\n",
    "print(eyes_array)"
   ]
  },
  {
   "cell_type": "markdown",
   "metadata": {},
   "source": [
    "# Random.rand()"
   ]
  },
  {
   "cell_type": "code",
   "execution_count": 16,
   "metadata": {},
   "outputs": [
    {
     "name": "stdout",
     "output_type": "stream",
     "text": [
      "[[0.50461071 0.11024914 0.1870162  0.09072123 0.05582016]\n",
      " [0.43830194 0.96826093 0.27877071 0.59200942 0.08394117]\n",
      " [0.68836464 0.93035003 0.51865816 0.00686488 0.49322245]\n",
      " [0.11783268 0.12467542 0.32138248 0.81138055 0.75993879]]\n"
     ]
    }
   ],
   "source": [
    "uniform_random = np.random.rand(4,5)\n",
    "print(uniform_random)"
   ]
  },
  {
   "cell_type": "markdown",
   "metadata": {},
   "source": [
    "# Randint()"
   ]
  },
  {
   "cell_type": "code",
   "execution_count": 17,
   "metadata": {},
   "outputs": [
    {
     "name": "stdout",
     "output_type": "stream",
     "text": [
      "[27 29 28 27 14]\n"
     ]
    }
   ],
   "source": [
    "integer_random = np.random.randint(10,50,5)\n",
    "print(integer_random)"
   ]
  },
  {
   "cell_type": "code",
   "execution_count": 18,
   "metadata": {},
   "outputs": [
    {
     "name": "stdout",
     "output_type": "stream",
     "text": [
      "[10 12 14 16 20 25]\n"
     ]
    }
   ],
   "source": [
    "my_array = np.array([ 10 , 12 , 14 , 16 , 20 , 25 ])\n",
    "print (my_array)"
   ]
  },
  {
   "cell_type": "code",
   "execution_count": 19,
   "metadata": {},
   "outputs": [
    {
     "name": "stdout",
     "output_type": "stream",
     "text": [
      "1\n",
      "(6,)\n"
     ]
    }
   ],
   "source": [
    "print(my_array.ndim)\n",
    "print(my_array.shape)"
   ]
  },
  {
   "cell_type": "code",
   "execution_count": 20,
   "metadata": {},
   "outputs": [
    {
     "name": "stdout",
     "output_type": "stream",
     "text": [
      "10\n",
      "12\n",
      "14\n",
      "16\n",
      "20\n",
      "25\n"
     ]
    }
   ],
   "source": [
    "for i in my_array:\n",
    "    print (i)"
   ]
  },
  {
   "cell_type": "code",
   "execution_count": 21,
   "metadata": {},
   "outputs": [
    {
     "name": "stdout",
     "output_type": "stream",
     "text": [
      "[[5 2 2 3 2]\n",
      " [5 8 6 1 3]\n",
      " [1 2 6 3 8]\n",
      " [3 8 3 8 4]]\n"
     ]
    }
   ],
   "source": [
    "integer_random = np.random.randint(1,11, size=(4,5))\n",
    "print(integer_random)"
   ]
  },
  {
   "cell_type": "code",
   "execution_count": 22,
   "metadata": {},
   "outputs": [
    {
     "name": "stdout",
     "output_type": "stream",
     "text": [
      "2\n",
      "(4, 5)\n"
     ]
    }
   ],
   "source": [
    "print(integer_random.ndim)\n",
    "print(integer_random.shape)"
   ]
  },
  {
   "cell_type": "code",
   "execution_count": 23,
   "metadata": {},
   "outputs": [
    {
     "name": "stdout",
     "output_type": "stream",
     "text": [
      "[5 2 2 3 2]\n",
      "[5 8 6 1 3]\n",
      "[1 2 6 3 8]\n",
      "[3 8 3 8 4]\n"
     ]
    }
   ],
   "source": [
    "for i in integer_random:\n",
    "    print(i)"
   ]
  },
  {
   "cell_type": "code",
   "execution_count": 24,
   "metadata": {},
   "outputs": [
    {
     "name": "stdout",
     "output_type": "stream",
     "text": [
      "5\n",
      "2\n",
      "2\n",
      "3\n",
      "2\n",
      "5\n",
      "8\n",
      "6\n",
      "1\n",
      "3\n",
      "1\n",
      "2\n",
      "6\n",
      "3\n",
      "8\n",
      "3\n",
      "8\n",
      "3\n",
      "8\n",
      "4\n"
     ]
    }
   ],
   "source": [
    "for rows in integer_random:\n",
    "    for cloumn in rows:\n",
    "        print(cloumn)"
   ]
  },
  {
   "cell_type": "markdown",
   "metadata": {},
   "source": [
    "# Append()"
   ]
  },
  {
   "cell_type": "code",
   "execution_count": 25,
   "metadata": {},
   "outputs": [
    {
     "name": "stdout",
     "output_type": "stream",
     "text": [
      "['Red' 'Green' 'Orange']\n",
      "['Red' 'Green' 'Orange' 'Yellow']\n"
     ]
    }
   ],
   "source": [
    "my_array = np.array([\"Red\", \"Green\", \"Orange\"])\n",
    "print (my_array)\n",
    "\n",
    "extended = np.append(my_array, \"Yellow\")\n",
    "print(extended)"
   ]
  },
  {
   "cell_type": "code",
   "execution_count": 26,
   "metadata": {},
   "outputs": [
    {
     "name": "stdout",
     "output_type": "stream",
     "text": [
      "['Red' 'Green' 'Orange']\n",
      "['Red' 'Green' 'Orange' 'Yellow' 'Pink']\n"
     ]
    }
   ],
   "source": [
    "my_array = np.array([\"Red\", \"Green\", \"Orange\"])\n",
    "print (my_array)\n",
    "\n",
    "extended = np.append(my_array, [\"Yellow\",\"Pink\"])\n",
    "print(extended)"
   ]
  },
  {
   "cell_type": "markdown",
   "metadata": {},
   "source": [
    "# Delete()"
   ]
  },
  {
   "cell_type": "code",
   "execution_count": 27,
   "metadata": {},
   "outputs": [
    {
     "name": "stdout",
     "output_type": "stream",
     "text": [
      "['Red' 'Green' 'Orange']\n",
      "After deltion\n",
      "['Red' 'Orange']\n"
     ]
    }
   ],
   "source": [
    "my_array = np.array([\"Red\", \"Green\", \"Orange\"])\n",
    "print (my_array)\n",
    "\n",
    "print(\"After deltion\")\n",
    "updated_array = np.delete(my_array,1)\n",
    "\n",
    "print(updated_array)"
   ]
  },
  {
   "cell_type": "code",
   "execution_count": 28,
   "metadata": {},
   "outputs": [
    {
     "name": "stdout",
     "output_type": "stream",
     "text": [
      "['Red' 'Green' 'Orange']\n",
      "After deletion\n",
      "['Red']\n"
     ]
    }
   ],
   "source": [
    "my_array = np.array([\"Red\", \"Green\", \"Orange\"])\n",
    "print (my_array)\n",
    "print (\"After deletion\")\n",
    "updated_array = np.delete(my_array, [ 1 , 2 ])\n",
    "print (updated_array)"
   ]
  },
  {
   "cell_type": "markdown",
   "metadata": {},
   "source": [
    "# Sorting Numpy Arrays"
   ]
  },
  {
   "cell_type": "code",
   "execution_count": 29,
   "metadata": {},
   "outputs": [
    {
     "name": "stdout",
     "output_type": "stream",
     "text": [
      "unsorted array\n",
      "[ 5 16 11  4  8 13 15 14 19 13]\n",
      " \n",
      " sorted array\n",
      "[ 4  5  8 11 13 13 14 15 16 19]\n"
     ]
    }
   ],
   "source": [
    "print (\"unsorted array\")\n",
    "my_array = np.random.randint( 1 , 20 , 10 )\n",
    "print (my_array)\n",
    "print (\" \\n sorted array\")\n",
    "sorted_array = np.sort(my_array)\n",
    "print (sorted_array)"
   ]
  },
  {
   "cell_type": "code",
   "execution_count": 30,
   "metadata": {},
   "outputs": [
    {
     "name": "stdout",
     "output_type": "stream",
     "text": [
      "unsorted array\n",
      "[[16  3  4 19  4  6]\n",
      " [16  2 10  5 16 16]\n",
      " [ 2  6  7 12 12 14]\n",
      " [17 19 13  8 19 18]]\n",
      "\\Sorted array\n",
      "[[ 3  4  4  6 16 19]\n",
      " [ 2  5 10 16 16 16]\n",
      " [ 2  6  7 12 12 14]\n",
      " [ 8 13 17 18 19 19]]\n"
     ]
    }
   ],
   "source": [
    "print (\"unsorted array\")\n",
    "my_array = np.random.randint( 1 , 20 , size = ( 4 , 6 ))\n",
    "print (my_array)\n",
    "print (\"\\Sorted array\")\n",
    "sorted_array = np.sort(my_array)\n",
    "print (sorted_array)"
   ]
  },
  {
   "cell_type": "code",
   "execution_count": 31,
   "metadata": {},
   "outputs": [
    {
     "name": "stdout",
     "output_type": "stream",
     "text": [
      "unsorted array\n",
      "[15  8  4  8 15 10 10  2 16 17]\n",
      " \n",
      " sorted array\n",
      "[17 16 15 15 10 10  8  8  4  2]\n"
     ]
    }
   ],
   "source": [
    "print (\"unsorted array\")\n",
    "my_array = np.random.randint( 1 , 20 , 10 )\n",
    "print (my_array)\n",
    "print (\" \\n sorted array\")\n",
    "sorted_array = np.sort(my_array)\n",
    "reverse_sorted = np.flipud(sorted_array)\n",
    "print (reverse_sorted)"
   ]
  },
  {
   "cell_type": "code",
   "execution_count": 32,
   "metadata": {},
   "outputs": [
    {
     "name": "stdout",
     "output_type": "stream",
     "text": [
      "one-dimensional array\n",
      "[ 2  5  9 19  6 17 13  5 17 17]\n",
      " \n",
      " two-dimensional array\n",
      "[[ 2  5  9 19  6]\n",
      " [17 13  5 17 17]]\n"
     ]
    }
   ],
   "source": [
    "print (\"one-dimensional array\")\n",
    "one_d_array = np.random.randint( 1 , 20 , 10 )\n",
    "print (one_d_array)\n",
    "print (\" \\n two-dimensional array\")\n",
    "two_d_array = one_d_array.reshape( 2 , 5 )\n",
    "print (two_d_array)"
   ]
  },
  {
   "cell_type": "code",
   "execution_count": 33,
   "metadata": {},
   "outputs": [
    {
     "name": "stdout",
     "output_type": "stream",
     "text": [
      "two-dimensional array\n",
      "[ 2  5  9 19  6 17 13  5 17 17]\n",
      " \n",
      " three-dimensional array\n",
      "[[ 9  6  2 17 13  6]\n",
      " [16 18 14  4  7 10]\n",
      " [18 14 15 16 18  1]\n",
      " [16  5 12  3  1  5]]\n"
     ]
    }
   ],
   "source": [
    "print (\"two-dimensional array\")\n",
    "two_d_array = np.random.randint( 1 , 20 , size = ( 4 , 6 ))\n",
    "print (one_d_array)\n",
    "print (\" \\n three-dimensional array\")\n",
    "three_d_array = np.reshape(two_d_array,( 3 , 4 , 2 ))\n",
    "print (two_d_array)"
   ]
  },
  {
   "cell_type": "markdown",
   "metadata": {},
   "source": [
    "# Indexing and Slicing NumPy Arrays"
   ]
  },
  {
   "cell_type": "code",
   "execution_count": 34,
   "metadata": {},
   "outputs": [
    {
     "name": "stdout",
     "output_type": "stream",
     "text": [
      "[ 1  2  3  4  5  6  7  8  9 10]\n"
     ]
    }
   ],
   "source": [
    "s = np.arange(1,11)\n",
    "print(s)"
   ]
  },
  {
   "cell_type": "code",
   "execution_count": 35,
   "metadata": {},
   "outputs": [
    {
     "name": "stdout",
     "output_type": "stream",
     "text": [
      "2\n"
     ]
    }
   ],
   "source": [
    "print(s[1])"
   ]
  },
  {
   "cell_type": "code",
   "execution_count": 36,
   "metadata": {},
   "outputs": [
    {
     "name": "stdout",
     "output_type": "stream",
     "text": [
      "[2 3 4 5 6 7 8 9]\n"
     ]
    }
   ],
   "source": [
    "print(s[1:9])"
   ]
  },
  {
   "cell_type": "code",
   "execution_count": 37,
   "metadata": {},
   "outputs": [
    {
     "name": "stdout",
     "output_type": "stream",
     "text": [
      "[1 2 3 4 5]\n",
      "[ 6  7  8  9 10]\n"
     ]
    }
   ],
   "source": [
    "print(s[:5])\n",
    "\n",
    "print(s[5:])"
   ]
  },
  {
   "cell_type": "code",
   "execution_count": 38,
   "metadata": {},
   "outputs": [
    {
     "name": "stdout",
     "output_type": "stream",
     "text": [
      "[[10 12 13]\n",
      " [45 32 16]]\n"
     ]
    }
   ],
   "source": [
    "row1 = [ 10 , 12 , 13 ]\n",
    "row2 = [ 45 , 32 , 16 ]\n",
    "row3 = [ 45 , 32 , 16 ]\n",
    "nums_2d = np.array([row1, row2, row3])\n",
    "print (nums_2d[: 2 ,:])\n"
   ]
  },
  {
   "cell_type": "code",
   "execution_count": 39,
   "metadata": {},
   "outputs": [
    {
     "name": "stdout",
     "output_type": "stream",
     "text": [
      "[[10 12]\n",
      " [45 32]\n",
      " [45 32]]\n"
     ]
    }
   ],
   "source": [
    "print (nums_2d[:,: 2 ])"
   ]
  },
  {
   "cell_type": "code",
   "execution_count": 40,
   "metadata": {},
   "outputs": [
    {
     "name": "stdout",
     "output_type": "stream",
     "text": [
      "[[32 16]\n",
      " [32 16]]\n"
     ]
    }
   ],
   "source": [
    "print (nums_2d[ 1 :, 1 :])"
   ]
  },
  {
   "cell_type": "markdown",
   "metadata": {},
   "source": [
    "# mean()"
   ]
  },
  {
   "cell_type": "code",
   "execution_count": 41,
   "metadata": {},
   "outputs": [
    {
     "name": "stdout",
     "output_type": "stream",
     "text": [
      "[ 2  4  8 10 12]\n",
      "mean:\n",
      "7.2\n"
     ]
    }
   ],
   "source": [
    "my_array = np.array([ 2 , 4 , 8 , 10 , 12 ])\n",
    "print (my_array)\n",
    "print (\"mean:\")\n",
    "print (np.mean(my_array))"
   ]
  },
  {
   "cell_type": "code",
   "execution_count": 42,
   "metadata": {},
   "outputs": [
    {
     "name": "stdout",
     "output_type": "stream",
     "text": [
      "[[19  2  8]\n",
      " [12  4  2]]\n",
      "mean:\n",
      "[9.66666667 6.        ]\n",
      "[15.5  3.   5. ]\n"
     ]
    }
   ],
   "source": [
    "my_array = np.random.randint( 1 , 20 , size = ( 2 , 3 ))\n",
    "print (my_array)\n",
    "print (\"mean:\")\n",
    "print (np.mean(my_array, axis = 1 ))\n",
    "print (np.mean(my_array, axis = 0 ))"
   ]
  },
  {
   "cell_type": "markdown",
   "metadata": {},
   "source": [
    "# Median"
   ]
  },
  {
   "cell_type": "code",
   "execution_count": 43,
   "metadata": {},
   "outputs": [
    {
     "name": "stdout",
     "output_type": "stream",
     "text": [
      "[ 2  4  8 10 12]\n",
      "median:\n",
      "8.0\n"
     ]
    }
   ],
   "source": [
    "my_array = np.array([ 2 , 4 , 8 , 10 , 12 ])\n",
    "print (my_array)\n",
    "print (\"median:\")\n",
    "print (np.median(my_array))"
   ]
  },
  {
   "cell_type": "code",
   "execution_count": 44,
   "metadata": {},
   "outputs": [
    {
     "name": "stdout",
     "output_type": "stream",
     "text": [
      "[[ 2  8 13  2 13]\n",
      " [11  6 17 16  3]\n",
      " [15 11 11  2  1]]\n",
      "median:\n",
      "[ 8. 11. 11.]\n",
      "[11.  8. 13.  2.  3.]\n"
     ]
    }
   ],
   "source": [
    "my_array = np.random.randint( 1 , 20 , size = ( 3 , 5 ))\n",
    "print (my_array)\n",
    "print (\"median:\")\n",
    "print (np.median(my_array, axis = 1 ))\n",
    "print (np.median(my_array, axis = 0 ))"
   ]
  },
  {
   "cell_type": "markdown",
   "metadata": {},
   "source": [
    "# min()"
   ]
  },
  {
   "cell_type": "code",
   "execution_count": 45,
   "metadata": {},
   "outputs": [
    {
     "name": "stdout",
     "output_type": "stream",
     "text": [
      "[ 2  4  8 10 12]\n",
      "min value:\n",
      "2\n"
     ]
    }
   ],
   "source": [
    "my_array = np.array([ 2 , 4 , 8 , 10 , 12 ])\n",
    "print (my_array)\n",
    "print (\"min value:\")\n",
    "print (np.amin(my_array))"
   ]
  },
  {
   "cell_type": "code",
   "execution_count": 46,
   "metadata": {},
   "outputs": [
    {
     "name": "stdout",
     "output_type": "stream",
     "text": [
      "[[13  2 18  2]\n",
      " [ 7 14 12 18]\n",
      " [14  5 14  7]]\n",
      "min:\n",
      "[2 7 5]\n",
      "[ 7  2 12  2]\n"
     ]
    }
   ],
   "source": [
    "my_array = np.random.randint( 1 , 20 , size = ( 3 , 4 ))\n",
    "print (my_array)\n",
    "print (\"min:\")\n",
    "print (np.amin(my_array, axis = 1 ))\n",
    "print (np.amin(my_array, axis = 0 ))"
   ]
  },
  {
   "cell_type": "markdown",
   "metadata": {},
   "source": [
    "# Max()"
   ]
  },
  {
   "cell_type": "code",
   "execution_count": 47,
   "metadata": {},
   "outputs": [
    {
     "name": "stdout",
     "output_type": "stream",
     "text": [
      "[ 2  4  8 10 12]\n",
      "max value:\n",
      "12\n"
     ]
    }
   ],
   "source": [
    "my_array = np.array([ 2 , 4 , 8 , 10 , 12 ])\n",
    "print (my_array)\n",
    "print (\"max value:\")\n",
    "print (np.amax(my_array))"
   ]
  },
  {
   "cell_type": "code",
   "execution_count": 48,
   "metadata": {},
   "outputs": [
    {
     "name": "stdout",
     "output_type": "stream",
     "text": [
      "[[ 9  1  2 19]\n",
      " [ 7  2  6 15]\n",
      " [ 4 14 12 12]]\n",
      "max:\n",
      "[19 15 14]\n",
      "[ 9 14 12 19]\n"
     ]
    }
   ],
   "source": [
    "my_array = np.random.randint( 1 , 20 , size = ( 3 , 4 ))\n",
    "print (my_array)\n",
    "print (\"max:\")\n",
    "print (np.amax(my_array, axis = 1 ))\n",
    "print (np.amax(my_array, axis = 0 ))"
   ]
  },
  {
   "cell_type": "markdown",
   "metadata": {},
   "source": [
    "# unique() "
   ]
  },
  {
   "cell_type": "code",
   "execution_count": 49,
   "metadata": {},
   "outputs": [
    {
     "name": "stdout",
     "output_type": "stream",
     "text": [
      "[1 3 4 5 6 7 8 9]\n"
     ]
    }
   ],
   "source": [
    "my_array =np.array([ 5 , 8 , 7 , 5 , 9 , 3 , 7 , 7 , 1 , 1 , 8 , 4 , 6 , 9 , 7 , 3 ])\n",
    "unique_items = np.unique(my_array)\n",
    "print (unique_items)"
   ]
  },
  {
   "cell_type": "markdown",
   "metadata": {},
   "source": [
    "# sqrt() "
   ]
  },
  {
   "cell_type": "code",
   "execution_count": 50,
   "metadata": {},
   "outputs": [
    {
     "name": "stdout",
     "output_type": "stream",
     "text": [
      "[3.16227766 4.47213595 5.47722558 6.32455532 7.07106781]\n"
     ]
    }
   ],
   "source": [
    "nums = [ 10 , 20 , 30 , 40 , 50 ]\n",
    "np_sqr = np.sqrt(nums)\n",
    "print (np_sqr)"
   ]
  },
  {
   "cell_type": "markdown",
   "metadata": {},
   "source": [
    "# log()"
   ]
  },
  {
   "cell_type": "code",
   "execution_count": 51,
   "metadata": {},
   "outputs": [
    {
     "name": "stdout",
     "output_type": "stream",
     "text": [
      "[2.30258509 2.99573227 3.40119738 3.68887945 3.91202301]\n"
     ]
    }
   ],
   "source": [
    "nums = [ 10 , 20 , 30 , 40 , 50 ]\n",
    "np_log = np.log(nums)\n",
    "print (np_log)"
   ]
  },
  {
   "cell_type": "markdown",
   "metadata": {},
   "source": [
    "# Exp()"
   ]
  },
  {
   "cell_type": "code",
   "execution_count": 52,
   "metadata": {},
   "outputs": [
    {
     "name": "stdout",
     "output_type": "stream",
     "text": [
      "[2.20264658e+04 4.85165195e+08 1.06864746e+13 2.35385267e+17\n",
      " 5.18470553e+21]\n"
     ]
    }
   ],
   "source": [
    "nums = [ 10 , 20 , 30 , 40 , 50 ]\n",
    "np_exp = np.exp(nums)\n",
    "print (np_exp)"
   ]
  }
 ],
 "metadata": {
  "kernelspec": {
   "display_name": "base",
   "language": "python",
   "name": "python3"
  },
  "language_info": {
   "codemirror_mode": {
    "name": "ipython",
    "version": 3
   },
   "file_extension": ".py",
   "mimetype": "text/x-python",
   "name": "python",
   "nbconvert_exporter": "python",
   "pygments_lexer": "ipython3",
   "version": "3.11.5"
  }
 },
 "nbformat": 4,
 "nbformat_minor": 2
}
