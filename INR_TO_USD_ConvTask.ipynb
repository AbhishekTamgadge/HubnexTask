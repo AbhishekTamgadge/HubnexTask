{
 "cells": [
  {
   "cell_type": "code",
   "execution_count": 1,
   "metadata": {},
   "outputs": [],
   "source": [
    "import requests as rq\n",
    "from bs4 import BeautifulSoup"
   ]
  },
  {
   "cell_type": "code",
   "execution_count": 2,
   "metadata": {},
   "outputs": [],
   "source": [
    "def feath_html(url):\n",
    "    # Fetch HTML content from URL\n",
    "    resp = rq.get(url)\n",
    "    return BeautifulSoup(resp.content, 'html.parser')"
   ]
  },
  {
   "cell_type": "code",
   "execution_count": 3,
   "metadata": {},
   "outputs": [],
   "source": [
    "def get_usd_market_price(currency):\n",
    "    url = f\"https://www.google.com/finance/quote/{currency}-USD\"\n",
    "    bsoup = feath_html(url)\n",
    "    exchange_rate_div = bsoup.find(\"div\", attrs={'data-last-price': True})\n",
    "    \n",
    "    if exchange_rate_div:\n",
    "        return float(exchange_rate_div['data-last-price'])\n",
    "    raise ValueError(f'Exchange rate for {currency} not fount.')"
   ]
  },
  {
   "cell_type": "code",
   "execution_count": 4,
   "metadata": {},
   "outputs": [],
   "source": [
    "def get_price_information(ticker, exchange):\n",
    "    url = f\"https://www.google.com/finance/quote/{ticker}:{exchange}\"\n",
    "    bSoup =feath_html(url)\n",
    "    price_div = bSoup.find('div', attrs={'data-last-price': True})\n",
    "    if price_div:\n",
    "        price = float(price_div['data-last-price'])\n",
    "        currency = price_div['data-currency-code']\n",
    "        usd_price = price if currency == 'USD' else round(price * get_usd_market_price(currency),2)\n",
    "        return{\n",
    "            'stock_name' : ticker,\n",
    "            'exchange' : exchange,\n",
    "            'INR_Price' : price,\n",
    "            'currency' : currency,\n",
    "            'USD_price' : usd_price\n",
    "        }\n",
    "    raise ValueError(f\"Price information for {ticker} on {exchange} not found.\")"
   ]
  },
  {
   "cell_type": "code",
   "execution_count": 5,
   "metadata": {},
   "outputs": [],
   "source": [
    "ticker1 = 'TCS'\n",
    "exchange1 = 'NSE'\n",
    "ticker2 = 'M&M'\n",
    "exchange2 = 'NSE'"
   ]
  },
  {
   "cell_type": "code",
   "execution_count": 6,
   "metadata": {},
   "outputs": [
    {
     "name": "stdout",
     "output_type": "stream",
     "text": [
      "{'stock_name': 'TCS', 'exchange': 'NSE', 'INR_Price': 3698.0, 'currency': 'INR', 'USD_price': 44.32}\n",
      "\n",
      "{'stock_name': 'M&M', 'exchange': 'NSE', 'INR_Price': 2517.95, 'currency': 'INR', 'USD_price': 30.18}\n"
     ]
    }
   ],
   "source": [
    "print(get_price_information(ticker1,exchange1))\n",
    "print()\n",
    "print(get_price_information(ticker2,exchange2))"
   ]
  },
  {
   "cell_type": "code",
   "execution_count": 7,
   "metadata": {},
   "outputs": [],
   "source": [
    "ticker3 = 'GOOG'\n",
    "exchange3 = 'NASDAQ'"
   ]
  },
  {
   "cell_type": "code",
   "execution_count": 8,
   "metadata": {},
   "outputs": [
    {
     "name": "stdout",
     "output_type": "stream",
     "text": [
      "{'stock_name': 'GOOG', 'exchange': 'NASDAQ', 'INR_Price': 173.93, 'currency': 'USD', 'USD_price': 173.93}\n"
     ]
    }
   ],
   "source": [
    "print(get_price_information(ticker3,exchange3))"
   ]
  }
 ],
 "metadata": {
  "kernelspec": {
   "display_name": "base",
   "language": "python",
   "name": "python3"
  },
  "language_info": {
   "codemirror_mode": {
    "name": "ipython",
    "version": 3
   },
   "file_extension": ".py",
   "mimetype": "text/x-python",
   "name": "python",
   "nbconvert_exporter": "python",
   "pygments_lexer": "ipython3",
   "version": "3.11.5"
  }
 },
 "nbformat": 4,
 "nbformat_minor": 2
}
