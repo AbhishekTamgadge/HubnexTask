{
 "cells": [
  {
   "cell_type": "markdown",
   "metadata": {},
   "source": [
    "## Indexing"
   ]
  },
  {
   "cell_type": "code",
   "execution_count": 1,
   "metadata": {},
   "outputs": [
    {
     "data": {
      "text/plain": [
       "['python', 25, 2024]"
      ]
     },
     "execution_count": 1,
     "metadata": {},
     "output_type": "execute_result"
    }
   ],
   "source": [
    "# creating a list\n",
    "nils = ['python',25, 2024]\n",
    "nils"
   ]
  },
  {
   "cell_type": "code",
   "execution_count": 2,
   "metadata": {},
   "outputs": [
    {
     "name": "stdout",
     "output_type": "stream",
     "text": [
      "Positive and negative indexing of the first element: \n",
      " - Positive index: python \n",
      " - Negative index: python\n",
      "\n",
      "Positive and negative indexing of the second element: \n",
      " - Positive index: 25 \n",
      " - Negative index: 25\n",
      "\n",
      "Positive and negative indexing of the third element: \n",
      " - Positive index: 2024 \n",
      " - Negative index: 2024\n"
     ]
    }
   ],
   "source": [
    "print('Positive and negative indexing of the first element: \\n - Positive index:', nils[0], '\\n - Negative index:', nils[-3])\n",
    "print()\n",
    "print('Positive and negative indexing of the second element: \\n - Positive index:', nils[1], '\\n - Negative index:', nils[-2])\n",
    "print()\n",
    "print('Positive and negative indexing of the third element: \\n - Positive index:', nils[2], '\\n - Negative index:', nils[-1])"
   ]
  },
  {
   "cell_type": "code",
   "execution_count": 3,
   "metadata": {},
   "outputs": [
    {
     "data": {
      "text/plain": [
       "['python',\n",
       " 3.14,\n",
       " 2024,\n",
       " [1, 1, 2, 3, 5, 8, 13, 21, 34],\n",
       " ('hello', 'python', 3, 14, 2024)]"
      ]
     },
     "execution_count": 3,
     "metadata": {},
     "output_type": "execute_result"
    }
   ],
   "source": [
    "nlis = ['python',3.14,2024,[1,1,2,3,5,8,13,21,34],('hello','python',3,14,2024)]\n",
    "nlis"
   ]
  },
  {
   "cell_type": "code",
   "execution_count": 4,
   "metadata": {},
   "outputs": [
    {
     "data": {
      "text/plain": [
       "5"
      ]
     },
     "execution_count": 4,
     "metadata": {},
     "output_type": "execute_result"
    }
   ],
   "source": [
    "# length of the list\n",
    "len(nlis)"
   ]
  },
  {
   "cell_type": "markdown",
   "metadata": {},
   "source": [
    "## Slicing"
   ]
  },
  {
   "cell_type": "code",
   "execution_count": 5,
   "metadata": {},
   "outputs": [
    {
     "name": "stdout",
     "output_type": "stream",
     "text": [
      "['python', 3.14]\n",
      "[2024, [1, 1, 2, 3, 5, 8, 13, 21, 34]]\n",
      "[('hello', 'python', 3, 14, 2024)]\n"
     ]
    }
   ],
   "source": [
    "# slicing of list\n",
    "print(nlis[0:2])\n",
    "print(nlis[2:4])\n",
    "print(nlis[4:6])"
   ]
  },
  {
   "cell_type": "markdown",
   "metadata": {},
   "source": [
    "## Extending the list"
   ]
  },
  {
   "cell_type": "code",
   "execution_count": 6,
   "metadata": {},
   "outputs": [
    {
     "data": {
      "text/plain": [
       "['python',\n",
       " 3.14,\n",
       " 2024,\n",
       " [1, 1, 2, 3, 5, 8, 13, 21, 34],\n",
       " ('hello', 'python', 3, 14, 2024),\n",
       " 'hello world',\n",
       " 1.618]"
      ]
     },
     "execution_count": 6,
     "metadata": {},
     "output_type": "execute_result"
    }
   ],
   "source": [
    "nlis.extend(['hello world', 1.618])\n",
    "nlis"
   ]
  },
  {
   "cell_type": "markdown",
   "metadata": {},
   "source": [
    "## Append() method"
   ]
  },
  {
   "cell_type": "code",
   "execution_count": 7,
   "metadata": {},
   "outputs": [
    {
     "data": {
      "text/plain": [
       "['python',\n",
       " 3.14,\n",
       " 2024,\n",
       " [1, 1, 2, 3, 5, 8, 13, 21, 34],\n",
       " ('hello', 'python', 3, 14, 2024),\n",
       " 'hello world',\n",
       " 1.618,\n",
       " ['hi python', 6.67]]"
      ]
     },
     "execution_count": 7,
     "metadata": {},
     "output_type": "execute_result"
    }
   ],
   "source": [
    "nlis.append(['hi python', 6.67])\n",
    "nlis"
   ]
  },
  {
   "cell_type": "markdown",
   "metadata": {},
   "source": [
    "## len(), append(), count(), index(), insert(), max(), min(), sum() functions"
   ]
  },
  {
   "cell_type": "code",
   "execution_count": 8,
   "metadata": {},
   "outputs": [
    {
     "name": "stdout",
     "output_type": "stream",
     "text": [
      "7\n",
      "[1, 2, 3, 4, 5, 6, 7, 4]\n",
      "2\n",
      "1\n",
      "[1, 2, 3, 4, 5, 6, 7, 4, 9]\n",
      "9\n",
      "1\n",
      "41\n"
     ]
    }
   ],
   "source": [
    "lis = [1,2,3,4,5,6,7]\n",
    "print(len(lis))\n",
    "\n",
    "lis.append(4)\n",
    "\n",
    "print(lis)\n",
    "\n",
    "print(lis.count(4))\n",
    "\n",
    "print(lis.index(2))\n",
    "\n",
    "lis.insert(8,9)\n",
    "\n",
    "print(lis)\n",
    "\n",
    "print(max(lis))\n",
    "\n",
    "print(min(lis))\n",
    "\n",
    "print(sum(lis))"
   ]
  },
  {
   "cell_type": "markdown",
   "metadata": {},
   "source": [
    "## Changing the element of a list since it is mutable"
   ]
  },
  {
   "cell_type": "code",
   "execution_count": 9,
   "metadata": {},
   "outputs": [
    {
     "name": "stdout",
     "output_type": "stream",
     "text": [
      "Before chaning : ['python', 3.14, 2024, [1, 1, 2, 3, 5, 8, 13, 21, 34], ('hello', 'python', 3, 14, 2024)]\n",
      "After changing : ['hello python!', 3.14, 2024, [1, 1, 2, 3, 5, 8, 13, 21, 34], ('hello', 'python', 3, 14, 2024)]\n",
      "After changing : ['hello python!', 1.618, 2024, [1, 1, 2, 3, 5, 8, 13, 21, 34], ('hello', 'python', 3, 14, 2024)]\n",
      "After changing : ['hello python!', 1.618, [3.14, 2024], [1, 1, 2, 3, 5, 8, 13, 21, 34], ('hello', 'python', 3, 14, 2024)]\n"
     ]
    }
   ],
   "source": [
    "nlis = ['python',3.14,2024,[1,1,2,3,5,8,13,21,34],('hello','python',3,14,2024)]\n",
    "print('Before chaning :' ,nlis)\n",
    "nlis[0] = 'hello python!'\n",
    "print('After changing :', nlis)\n",
    "nlis[1] = 1.618\n",
    "print('After changing :', nlis)\n",
    "nlis[2] = [3.14, 2024]\n",
    "print('After changing :', nlis)"
   ]
  },
  {
   "cell_type": "markdown",
   "metadata": {},
   "source": [
    "## Delting the element from the list using del() function"
   ]
  },
  {
   "cell_type": "code",
   "execution_count": 10,
   "metadata": {},
   "outputs": [
    {
     "name": "stdout",
     "output_type": "stream",
     "text": [
      "Before chaning : ['hello python!', 1.618, [3.14, 2024], [1, 1, 2, 3, 5, 8, 13, 21, 34], ('hello', 'python', 3, 14, 2024)]\n",
      "After changing : [1.618, [3.14, 2024], [1, 1, 2, 3, 5, 8, 13, 21, 34], ('hello', 'python', 3, 14, 2024)]\n",
      "After changing : [1.618, [3.14, 2024], [1, 1, 2, 3, 5, 8, 13, 21, 34]]\n"
     ]
    }
   ],
   "source": [
    "print('Before chaning :', nlis)\n",
    "del(nlis[0])\n",
    "print('After changing :', nlis)\n",
    "del(nlis[-1])\n",
    "print('After changing :', nlis)"
   ]
  },
  {
   "cell_type": "markdown",
   "metadata": {},
   "source": [
    "## Conversion of a string into a list using split() function"
   ]
  },
  {
   "cell_type": "code",
   "execution_count": 11,
   "metadata": {},
   "outputs": [
    {
     "data": {
      "text/plain": [
       "['I', 'like', 'to', 'coding', 'in', 'python']"
      ]
     },
     "execution_count": 11,
     "metadata": {},
     "output_type": "execute_result"
    }
   ],
   "source": [
    "message = 'I like to coding in python'\n",
    "message.split()"
   ]
  },
  {
   "cell_type": "markdown",
   "metadata": {},
   "source": [
    "## Use of split() function with a delimiter"
   ]
  },
  {
   "cell_type": "code",
   "execution_count": 12,
   "metadata": {},
   "outputs": [
    {
     "data": {
      "text/plain": [
       "['p,y,t,h,o,n']"
      ]
     },
     "execution_count": 12,
     "metadata": {},
     "output_type": "execute_result"
    }
   ],
   "source": [
    "text = 'p,y,t,h,o,n'\n",
    "text.split(\" , \")"
   ]
  },
  {
   "cell_type": "markdown",
   "metadata": {},
   "source": [
    "## Basic oprations"
   ]
  },
  {
   "cell_type": "code",
   "execution_count": 13,
   "metadata": {},
   "outputs": [
    {
     "name": "stdout",
     "output_type": "stream",
     "text": [
      "4\n",
      "6\n",
      "['a', 'b', 'hello', 'python', 1, 2, 3, 4, 5, 6]\n",
      "['a', 'b', 'hello', 'python', 'a', 'b', 'hello', 'python', 'a', 'b', 'hello', 'python']\n",
      "[1, 2, 3, 4, 5, 6, 1, 2, 3, 4, 5, 6, 1, 2, 3, 4, 5, 6, 1, 2, 3, 4, 5, 6]\n",
      "1\n",
      "2\n",
      "3\n",
      "4\n",
      "5\n",
      "6\n",
      "a\n",
      "b\n",
      "hello\n",
      "python\n",
      "False\n",
      "True\n"
     ]
    }
   ],
   "source": [
    "nlis_1 = ['a','b','hello','python']\n",
    "nlis_2 = [1,2,3,4,5,6]\n",
    "print(len(nlis_1))\n",
    "print(len(nlis_2))\n",
    "print(nlis_1 + nlis_2)\n",
    "print(nlis_1 * 3)\n",
    "print(nlis_2 * 4)\n",
    "for i in nlis_2:\n",
    "    print(i)\n",
    "for i in nlis_1:\n",
    "    print(i)\n",
    "print(4 in nlis_1)\n",
    "print(6 in nlis_2)"
   ]
  },
  {
   "cell_type": "markdown",
   "metadata": {},
   "source": [
    "## Copy the list"
   ]
  },
  {
   "cell_type": "code",
   "execution_count": 14,
   "metadata": {},
   "outputs": [
    {
     "name": "stdout",
     "output_type": "stream",
     "text": [
      "nlis : ['python', 3.14, 2022, [1, 1, 2, 3, 5, 8, 13, 21, 34], ('hello', 'python', 3, 14, 2024)]\n",
      "copy_list : ['python', 3.14, 2022, [1, 1, 2, 3, 5, 8, 13, 21, 34], ('hello', 'python', 3, 14, 2024)]\n"
     ]
    }
   ],
   "source": [
    "nlis = ['python', 3.14, 2022, [1, 1, 2, 3, 5, 8, 13, 21, 34], ('hello', 'python', 3,14, 2024)]\n",
    "copy_list = nlis\n",
    "print('nlis :' ,nlis)\n",
    "print('copy_list :', copy_list)"
   ]
  },
  {
   "cell_type": "code",
   "execution_count": 15,
   "metadata": {},
   "outputs": [
    {
     "name": "stdout",
     "output_type": "stream",
     "text": [
      "nlis : ['python', 3.14, 2022, [1, 1, 2, 3, 5, 8, 13, 21, 34], ('hello', 'python', 3, 14, 2024)]\n",
      "copy_list[0] : python\n",
      "copy_list[0] : hello python!\n"
     ]
    }
   ],
   "source": [
    "# The element in the copied list also changes when the element in the original list was changed.\n",
    "nlis = ['python', 3.14, 2022, [1, 1, 2, 3, 5, 8, 13, 21, 34], ('hello', 'python', 3,14, 2024)]\n",
    "copy_list = nlis\n",
    "print('nlis :' ,nlis)\n",
    "print('copy_list[0] :', copy_list[0])\n",
    "nlis[0] = 'hello python!'\n",
    "print('copy_list[0] :', copy_list[0])\n",
    "\n"
   ]
  },
  {
   "cell_type": "markdown",
   "metadata": {},
   "source": [
    "## Clone list"
   ]
  },
  {
   "cell_type": "code",
   "execution_count": 16,
   "metadata": {},
   "outputs": [
    {
     "data": {
      "text/plain": [
       "['python',\n",
       " 3.14,\n",
       " 2022,\n",
       " [1, 1, 2, 3, 5, 8, 13, 21, 34],\n",
       " ('hello', 'python', 3, 14, 2024)]"
      ]
     },
     "execution_count": 16,
     "metadata": {},
     "output_type": "execute_result"
    }
   ],
   "source": [
    "nlis = ['python', 3.14, 2022, [1, 1, 2, 3, 5, 8, 13, 21, 34], ('hello', 'python', 3,14, 2024)]\n",
    "clone_list = nlis[:]\n",
    "clone_list"
   ]
  },
  {
   "cell_type": "code",
   "execution_count": 17,
   "metadata": {},
   "outputs": [
    {
     "name": "stdout",
     "output_type": "stream",
     "text": [
      "['python', 3.14, 2022, [1, 1, 2, 3, 5, 8, 13, 21, 34], ('hello', 'python', 3, 14, 2024)]\n",
      "['python', 3.14, 2022, [1, 1, 2, 3, 5, 8, 13, 21, 34], ('hello', 'python', 3, 14, 2024)]\n",
      "clone_list[0] : python\n",
      "nlis[0] : python\n"
     ]
    }
   ],
   "source": [
    "# when an element in the original list is changed, the element in the clone list does not change\n",
    "\n",
    "nlis = ['python', 3.14, 2022, [1, 1, 2, 3, 5, 8, 13, 21, 34], ('hello', 'python', 3,14, 2024)]\n",
    "print(nlis)\n",
    "clone_list = nlis[:]\n",
    "print(clone_list)\n",
    "print('clone_list[0] :', clone_list[0])\n",
    "nlis[0] ='hello, python!'\n",
    "print('nlis[0] :', nils[0])"
   ]
  },
  {
   "cell_type": "markdown",
   "metadata": {},
   "source": [
    "## Concatenate the list"
   ]
  },
  {
   "cell_type": "code",
   "execution_count": 18,
   "metadata": {},
   "outputs": [
    {
     "name": "stdout",
     "output_type": "stream",
     "text": [
      "['a', 'b', ['c', 'd'], 'e', 1, 2, 3, 4, 5, (6, 7), True, False]\n"
     ]
    }
   ],
   "source": [
    "a_list = ['a','b',['c','d'],'e']\n",
    "b_list = [1,2,3,4,5,(6,7),True,False]\n",
    "new_list = a_list + b_list\n",
    "print(new_list)"
   ]
  },
  {
   "cell_type": "markdown",
   "metadata": {},
   "source": [
    "## Input() Function"
   ]
  },
  {
   "cell_type": "code",
   "execution_count": 19,
   "metadata": {},
   "outputs": [
    {
     "name": "stdout",
     "output_type": "stream",
     "text": [
      "The text is hello\n",
      "<class 'str'>\n"
     ]
    }
   ],
   "source": [
    "text = input('Enter a String:')\n",
    "print('The text is', text)\n",
    "print(type(text))"
   ]
  },
  {
   "cell_type": "code",
   "execution_count": 20,
   "metadata": {},
   "outputs": [
    {
     "name": "stdout",
     "output_type": "stream",
     "text": [
      "The number is 17\n",
      "<class 'str'>\n"
     ]
    }
   ],
   "source": [
    "number = input('Enter an integer:')\n",
    "print('The number is', number)\n",
    "print(type(number))"
   ]
  },
  {
   "cell_type": "code",
   "execution_count": 21,
   "metadata": {},
   "outputs": [
    {
     "name": "stdout",
     "output_type": "stream",
     "text": [
      "The number is 17\n",
      "<class 'int'>\n"
     ]
    }
   ],
   "source": [
    "number = int(input('Enter an integer:'))\n",
    "print('The number is', number)\n",
    "print(type(number))"
   ]
  },
  {
   "cell_type": "code",
   "execution_count": 22,
   "metadata": {},
   "outputs": [
    {
     "name": "stdout",
     "output_type": "stream",
     "text": [
      "The number is 15.16\n",
      "<class 'float'>\n"
     ]
    }
   ],
   "source": [
    "number = float(input('Enter an integer:'))\n",
    "print('The number is', number)\n",
    "print(type(number))"
   ]
  },
  {
   "cell_type": "markdown",
   "metadata": {},
   "source": [
    "## eval() functions"
   ]
  },
  {
   "cell_type": "code",
   "execution_count": 23,
   "metadata": {},
   "outputs": [
    {
     "name": "stdout",
     "output_type": "stream",
     "text": [
      "<class 'str'>\n",
      "<class 'int'>\n"
     ]
    }
   ],
   "source": [
    "expression = '8+7'\n",
    "total = eval(expression)\n",
    "print(type(expression))\n",
    "print(type(total))"
   ]
  },
  {
   "cell_type": "markdown",
   "metadata": {},
   "source": [
    "## Format() Function"
   ]
  },
  {
   "cell_type": "code",
   "execution_count": 24,
   "metadata": {},
   "outputs": [
    {
     "name": "stdout",
     "output_type": "stream",
     "text": [
      "Sum of 3.14 and 1.618 is 4.758.\n"
     ]
    }
   ],
   "source": [
    "a = float(input('Enter the pi number:'))\n",
    "b = float(input('Enter the golden ratio:'))\n",
    "total = a + b\n",
    "print('Sum of {} and {} is {}.'.format(a,b,total))"
   ]
  }
 ],
 "metadata": {
  "kernelspec": {
   "display_name": "base",
   "language": "python",
   "name": "python3"
  },
  "language_info": {
   "codemirror_mode": {
    "name": "ipython",
    "version": 3
   },
   "file_extension": ".py",
   "mimetype": "text/x-python",
   "name": "python",
   "nbconvert_exporter": "python",
   "pygments_lexer": "ipython3",
   "version": "3.11.5"
  }
 },
 "nbformat": 4,
 "nbformat_minor": 2
}
